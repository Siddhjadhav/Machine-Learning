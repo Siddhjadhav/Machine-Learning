{
 "cells": [
  {
   "cell_type": "markdown",
   "id": "2c037e96",
   "metadata": {},
   "source": [
    "# Milk Quality Prediction"
   ]
  },
  {
   "cell_type": "markdown",
   "id": "1ab924a2",
   "metadata": {},
   "source": [
    "### This dataset is manually collected from observations. It helps us to build machine leaming models to predict the quality of milk."
   ]
  },
  {
   "cell_type": "code",
   "execution_count": 1,
   "id": "8cdf66ec",
   "metadata": {},
   "outputs": [],
   "source": [
    "import pandas as pd \n",
    "import numpy as np \n",
    "import matplotlib.pyplot as plt \n",
    "import seaborn as sns \n",
    "from sklearn.metrics import accuracy_score \n",
    "from sklearn.svm import SVC \n",
    "from sklearn.tree import DecisionTreeClassifier \n",
    "from sklearn import tree \n",
    "import warnings \n",
    "warnings.filterwarnings('ignore')"
   ]
  },
  {
   "cell_type": "markdown",
   "id": "13c3f980",
   "metadata": {},
   "source": [
    "#### The code begins by importing necessary libraries for data analysis and machine learning. It includes pandas for data manipulation, numpy for numerical operations, matplotlib for plotting, seabom for data visualization, and various classes and functions from scikit-learn for machine leaming tasks."
   ]
  },
  {
   "cell_type": "markdown",
   "id": "9dbd04da",
   "metadata": {},
   "source": [
    "## DATA COLLECTION"
   ]
  },
  {
   "cell_type": "code",
   "execution_count": 2,
   "id": "6c7a5def",
   "metadata": {},
   "outputs": [
    {
     "data": {
      "text/html": [
       "<div>\n",
       "<style scoped>\n",
       "    .dataframe tbody tr th:only-of-type {\n",
       "        vertical-align: middle;\n",
       "    }\n",
       "\n",
       "    .dataframe tbody tr th {\n",
       "        vertical-align: top;\n",
       "    }\n",
       "\n",
       "    .dataframe thead th {\n",
       "        text-align: right;\n",
       "    }\n",
       "</style>\n",
       "<table border=\"1\" class=\"dataframe\">\n",
       "  <thead>\n",
       "    <tr style=\"text-align: right;\">\n",
       "      <th></th>\n",
       "      <th>pH</th>\n",
       "      <th>Temprature</th>\n",
       "      <th>Taste</th>\n",
       "      <th>Odor</th>\n",
       "      <th>Fat</th>\n",
       "      <th>Turbidity</th>\n",
       "      <th>Colour</th>\n",
       "      <th>Grade</th>\n",
       "    </tr>\n",
       "  </thead>\n",
       "  <tbody>\n",
       "    <tr>\n",
       "      <th>0</th>\n",
       "      <td>6.6</td>\n",
       "      <td>35</td>\n",
       "      <td>1</td>\n",
       "      <td>0</td>\n",
       "      <td>1</td>\n",
       "      <td>0</td>\n",
       "      <td>254</td>\n",
       "      <td>high</td>\n",
       "    </tr>\n",
       "    <tr>\n",
       "      <th>1</th>\n",
       "      <td>6.6</td>\n",
       "      <td>36</td>\n",
       "      <td>0</td>\n",
       "      <td>1</td>\n",
       "      <td>0</td>\n",
       "      <td>1</td>\n",
       "      <td>253</td>\n",
       "      <td>high</td>\n",
       "    </tr>\n",
       "    <tr>\n",
       "      <th>2</th>\n",
       "      <td>8.5</td>\n",
       "      <td>70</td>\n",
       "      <td>1</td>\n",
       "      <td>1</td>\n",
       "      <td>1</td>\n",
       "      <td>1</td>\n",
       "      <td>246</td>\n",
       "      <td>low</td>\n",
       "    </tr>\n",
       "    <tr>\n",
       "      <th>3</th>\n",
       "      <td>9.5</td>\n",
       "      <td>34</td>\n",
       "      <td>1</td>\n",
       "      <td>1</td>\n",
       "      <td>0</td>\n",
       "      <td>1</td>\n",
       "      <td>255</td>\n",
       "      <td>low</td>\n",
       "    </tr>\n",
       "    <tr>\n",
       "      <th>4</th>\n",
       "      <td>6.6</td>\n",
       "      <td>37</td>\n",
       "      <td>0</td>\n",
       "      <td>0</td>\n",
       "      <td>0</td>\n",
       "      <td>0</td>\n",
       "      <td>255</td>\n",
       "      <td>medium</td>\n",
       "    </tr>\n",
       "  </tbody>\n",
       "</table>\n",
       "</div>"
      ],
      "text/plain": [
       "    pH  Temprature  Taste  Odor  Fat   Turbidity  Colour   Grade\n",
       "0  6.6          35      1     0     1          0     254    high\n",
       "1  6.6          36      0     1     0          1     253    high\n",
       "2  8.5          70      1     1     1          1     246     low\n",
       "3  9.5          34      1     1     0          1     255     low\n",
       "4  6.6          37      0     0     0          0     255  medium"
      ]
     },
     "execution_count": 2,
     "metadata": {},
     "output_type": "execute_result"
    }
   ],
   "source": [
    "df=pd.read_csv('milknew (1).csv')\n",
    "df.head()"
   ]
  },
  {
   "cell_type": "markdown",
   "id": "046e764f",
   "metadata": {},
   "source": [
    "### Understanding Given Data"
   ]
  },
  {
   "cell_type": "markdown",
   "id": "e1a0d022",
   "metadata": {},
   "source": [
    "This dataset consists of 7 independent variables ie pH, Temperature, Taste, Odor, Fat, Turbidity, and Color.\n",
    "1.pH - The •pH V calumn contains 1059 non-null float values. It represents the acidity or alkalinity of the milk samples\n",
    "\n",
    "2.Temprature - Tne 'Temperature column contains 1059 non-null integer values. It represents tne temperature at wntcn tne milk samples were taen\n",
    "\n",
    "3.Taste - The Tastel column contains 1059 non-null integer values_lt appears to be a binary categorical feature, where 1 likely indicates a positive taste, and 0 indicates a negative taste for the milk samples.\n",
    "\n",
    "4.octor - Tne 'Odor column contains 1059 non-null Integer values. Similar to Taster, it appears to De a binary categoncal teature, wnere 1 IIGIY jncncates tne presence ot Odor, and 0 indicates no ocor in tne milk samp•es_\n",
    "\n",
    "5.Fat - The 'Fat column contains 1059 non-null integer values. It is a binary categorical feature, where 1 likely represents high fat content and O represents low fat content in the milk samples\n",
    "\n",
    "6.TurblClty - Tne 'Turbidity• column contans 1059 non-null integer values. It appears to oe a binary categoncal teature, wnere 1 likely Indicates njgn turbidity' (cloudiness or opacity), and O indicates low turbidity in the milk samples.\n",
    "\n",
    "7.Colour - The 'Colour column contains 1059 non-null integer values. It represents the color intensity of the milk samples, and since it is numerical, it is expected to oe a continuous teature.\n",
    "\n",
    "8.Grace - Tne 'Gracev column contains 1059 non-null Object (stnng) values. It is tne target variable representing tne grace or quality ot tne milk samples.\n",
    "\n",
    "There are no null values in Dataset\n",
    "\n",
    "Generally, the Grade or Quality at the milk depends on these parameters. These parameters play a vital role in the predictive analysis of the milk."
   ]
  },
  {
   "cell_type": "markdown",
   "id": "1c3949bd",
   "metadata": {},
   "source": [
    "## ANALYZING THE DATA"
   ]
  },
  {
   "cell_type": "code",
   "execution_count": 3,
   "id": "eaddcab0",
   "metadata": {},
   "outputs": [
    {
     "name": "stdout",
     "output_type": "stream",
     "text": [
      "<class 'pandas.core.frame.DataFrame'>\n",
      "RangeIndex: 1059 entries, 0 to 1058\n",
      "Data columns (total 8 columns):\n",
      " #   Column      Non-Null Count  Dtype  \n",
      "---  ------      --------------  -----  \n",
      " 0   pH          1059 non-null   float64\n",
      " 1   Temprature  1059 non-null   int64  \n",
      " 2   Taste       1059 non-null   int64  \n",
      " 3   Odor        1059 non-null   int64  \n",
      " 4   Fat         1059 non-null   int64  \n",
      " 5   Turbidity   1059 non-null   int64  \n",
      " 6   Colour      1059 non-null   int64  \n",
      " 7   Grade       1059 non-null   object \n",
      "dtypes: float64(1), int64(6), object(1)\n",
      "memory usage: 66.3+ KB\n"
     ]
    }
   ],
   "source": [
    "df.info()"
   ]
  },
  {
   "cell_type": "code",
   "execution_count": 4,
   "id": "85e587bc",
   "metadata": {},
   "outputs": [
    {
     "data": {
      "text/html": [
       "<div>\n",
       "<style scoped>\n",
       "    .dataframe tbody tr th:only-of-type {\n",
       "        vertical-align: middle;\n",
       "    }\n",
       "\n",
       "    .dataframe tbody tr th {\n",
       "        vertical-align: top;\n",
       "    }\n",
       "\n",
       "    .dataframe thead th {\n",
       "        text-align: right;\n",
       "    }\n",
       "</style>\n",
       "<table border=\"1\" class=\"dataframe\">\n",
       "  <thead>\n",
       "    <tr style=\"text-align: right;\">\n",
       "      <th></th>\n",
       "      <th>pH</th>\n",
       "      <th>Temprature</th>\n",
       "      <th>Taste</th>\n",
       "      <th>Odor</th>\n",
       "      <th>Fat</th>\n",
       "      <th>Turbidity</th>\n",
       "      <th>Colour</th>\n",
       "    </tr>\n",
       "  </thead>\n",
       "  <tbody>\n",
       "    <tr>\n",
       "      <th>count</th>\n",
       "      <td>1059.000000</td>\n",
       "      <td>1059.000000</td>\n",
       "      <td>1059.000000</td>\n",
       "      <td>1059.000000</td>\n",
       "      <td>1059.000000</td>\n",
       "      <td>1059.000000</td>\n",
       "      <td>1059.000000</td>\n",
       "    </tr>\n",
       "    <tr>\n",
       "      <th>mean</th>\n",
       "      <td>6.630123</td>\n",
       "      <td>44.226629</td>\n",
       "      <td>0.546742</td>\n",
       "      <td>0.432483</td>\n",
       "      <td>0.671388</td>\n",
       "      <td>0.491029</td>\n",
       "      <td>251.840415</td>\n",
       "    </tr>\n",
       "    <tr>\n",
       "      <th>std</th>\n",
       "      <td>1.399679</td>\n",
       "      <td>10.098364</td>\n",
       "      <td>0.498046</td>\n",
       "      <td>0.495655</td>\n",
       "      <td>0.469930</td>\n",
       "      <td>0.500156</td>\n",
       "      <td>4.307424</td>\n",
       "    </tr>\n",
       "    <tr>\n",
       "      <th>min</th>\n",
       "      <td>3.000000</td>\n",
       "      <td>34.000000</td>\n",
       "      <td>0.000000</td>\n",
       "      <td>0.000000</td>\n",
       "      <td>0.000000</td>\n",
       "      <td>0.000000</td>\n",
       "      <td>240.000000</td>\n",
       "    </tr>\n",
       "    <tr>\n",
       "      <th>25%</th>\n",
       "      <td>6.500000</td>\n",
       "      <td>38.000000</td>\n",
       "      <td>0.000000</td>\n",
       "      <td>0.000000</td>\n",
       "      <td>0.000000</td>\n",
       "      <td>0.000000</td>\n",
       "      <td>250.000000</td>\n",
       "    </tr>\n",
       "    <tr>\n",
       "      <th>50%</th>\n",
       "      <td>6.700000</td>\n",
       "      <td>41.000000</td>\n",
       "      <td>1.000000</td>\n",
       "      <td>0.000000</td>\n",
       "      <td>1.000000</td>\n",
       "      <td>0.000000</td>\n",
       "      <td>255.000000</td>\n",
       "    </tr>\n",
       "    <tr>\n",
       "      <th>75%</th>\n",
       "      <td>6.800000</td>\n",
       "      <td>45.000000</td>\n",
       "      <td>1.000000</td>\n",
       "      <td>1.000000</td>\n",
       "      <td>1.000000</td>\n",
       "      <td>1.000000</td>\n",
       "      <td>255.000000</td>\n",
       "    </tr>\n",
       "    <tr>\n",
       "      <th>max</th>\n",
       "      <td>9.500000</td>\n",
       "      <td>90.000000</td>\n",
       "      <td>1.000000</td>\n",
       "      <td>1.000000</td>\n",
       "      <td>1.000000</td>\n",
       "      <td>1.000000</td>\n",
       "      <td>255.000000</td>\n",
       "    </tr>\n",
       "  </tbody>\n",
       "</table>\n",
       "</div>"
      ],
      "text/plain": [
       "                pH   Temprature        Taste         Odor         Fat   \\\n",
       "count  1059.000000  1059.000000  1059.000000  1059.000000  1059.000000   \n",
       "mean      6.630123    44.226629     0.546742     0.432483     0.671388   \n",
       "std       1.399679    10.098364     0.498046     0.495655     0.469930   \n",
       "min       3.000000    34.000000     0.000000     0.000000     0.000000   \n",
       "25%       6.500000    38.000000     0.000000     0.000000     0.000000   \n",
       "50%       6.700000    41.000000     1.000000     0.000000     1.000000   \n",
       "75%       6.800000    45.000000     1.000000     1.000000     1.000000   \n",
       "max       9.500000    90.000000     1.000000     1.000000     1.000000   \n",
       "\n",
       "         Turbidity       Colour  \n",
       "count  1059.000000  1059.000000  \n",
       "mean      0.491029   251.840415  \n",
       "std       0.500156     4.307424  \n",
       "min       0.000000   240.000000  \n",
       "25%       0.000000   250.000000  \n",
       "50%       0.000000   255.000000  \n",
       "75%       1.000000   255.000000  \n",
       "max       1.000000   255.000000  "
      ]
     },
     "execution_count": 4,
     "metadata": {},
     "output_type": "execute_result"
    }
   ],
   "source": [
    "df.describe()"
   ]
  },
  {
   "cell_type": "markdown",
   "id": "ddd11072",
   "metadata": {},
   "source": [
    "#### From above table we get 5 number summary of dataset i.e. we get minimum, mean,median,standard deviation and maximum"
   ]
  },
  {
   "cell_type": "markdown",
   "id": "c48b5640",
   "metadata": {},
   "source": [
    "## DATA CLEANING"
   ]
  },
  {
   "cell_type": "markdown",
   "id": "9542e40f",
   "metadata": {},
   "source": [
    "### Analyzing the target Column"
   ]
  },
  {
   "cell_type": "code",
   "execution_count": 5,
   "id": "7ecd040f",
   "metadata": {},
   "outputs": [
    {
     "data": {
      "text/plain": [
       "low       429\n",
       "medium    374\n",
       "high      256\n",
       "Name: Grade, dtype: int64"
      ]
     },
     "execution_count": 5,
     "metadata": {},
     "output_type": "execute_result"
    }
   ],
   "source": [
    "df['Grade'].value_counts()"
   ]
  },
  {
   "cell_type": "markdown",
   "id": "c2b1a67e",
   "metadata": {},
   "source": [
    "#### Here, we can see data in target column is balanced"
   ]
  },
  {
   "cell_type": "markdown",
   "id": "b0657416",
   "metadata": {},
   "source": [
    "### Checking for missing values"
   ]
  },
  {
   "cell_type": "code",
   "execution_count": 6,
   "id": "ed87fd27",
   "metadata": {},
   "outputs": [
    {
     "data": {
      "text/plain": [
       "pH            0\n",
       "Temprature    0\n",
       "Taste         0\n",
       "Odor          0\n",
       "Fat           0\n",
       "Turbidity     0\n",
       "Colour        0\n",
       "Grade         0\n",
       "dtype: int64"
      ]
     },
     "execution_count": 6,
     "metadata": {},
     "output_type": "execute_result"
    }
   ],
   "source": [
    "df.isnull().sum()"
   ]
  },
  {
   "cell_type": "markdown",
   "id": "6d5370ea",
   "metadata": {},
   "source": [
    "#### There are no missing values in any of the columns of the dataset."
   ]
  },
  {
   "cell_type": "markdown",
   "id": "c5a189b0",
   "metadata": {},
   "source": [
    "## Visualization"
   ]
  },
  {
   "cell_type": "markdown",
   "id": "24af9f54",
   "metadata": {},
   "source": [
    "## 1)\tPie Chart"
   ]
  },
  {
   "cell_type": "code",
   "execution_count": 7,
   "id": "68f71214",
   "metadata": {},
   "outputs": [
    {
     "data": {
      "image/png": "[encoded data removed]",
      "text/plain": [
       "<Figure size 288x288 with 1 Axes>"
      ]
     },
     "metadata": {},
     "output_type": "display_data"
    }
   ],
   "source": [
    " plt.figure(figsize=(4,4))\n",
    "df['Grade'].value_counts().plot.pie(autopct='%1.2f%%')\n",
    "plt.show()\n"
   ]
  },
  {
   "cell_type": "markdown",
   "id": "0732ab15",
   "metadata": {},
   "source": [
    "#### Here we have plotted pie chart where we have shown percentage of Grade of Milk Quality, here low quality grade is maximum and high quality is minimum"
   ]
  },
  {
   "cell_type": "markdown",
   "id": "743b6c7c",
   "metadata": {},
   "source": [
    "## 2) Heatmap"
   ]
  },
  {
   "cell_type": "code",
   "execution_count": 8,
   "id": "e62bc7b4",
   "metadata": {},
   "outputs": [],
   "source": [
    "corr =  df.corr() "
   ]
  },
  {
   "cell_type": "code",
   "execution_count": 9,
   "id": "4692d02f",
   "metadata": {},
   "outputs": [
    {
     "data": {
      "image/png": "[encoded data removed]",
      "text/plain": [
       "<Figure size 504x504 with 2 Axes>"
      ]
     },
     "metadata": {
      "needs_background": "light"
     },
     "output_type": "display_data"
    }
   ],
   "source": [
    "plt.figure(figsize=(7,7))\n",
    "sns.heatmap(corr,annot=True,cmap='rocket',linecolor='black',linewidths=0.2)\n",
    "plt.show()"
   ]
  },
  {
   "cell_type": "markdown",
   "id": "861af0eb",
   "metadata": {},
   "source": [
    "#### here we have found the relation between various features using heatmap"
   ]
  },
  {
   "cell_type": "markdown",
   "id": "045df982",
   "metadata": {},
   "source": [
    "## 3) Hotplot"
   ]
  },
  {
   "cell_type": "code",
   "execution_count": 10,
   "id": "7235cfcb",
   "metadata": {},
   "outputs": [
    {
     "data": {
      "image/png": "[encoded data removed]",
      "text/plain": [
       "<Figure size 216x216 with 1 Axes>"
      ]
     },
     "metadata": {
      "needs_background": "light"
     },
     "output_type": "display_data"
    }
   ],
   "source": [
    "#hisplot (categorical)\n",
    "plt.figure(figsize=(3,3))\n",
    "sns.histplot(data=df,x='Grade',color='lightgreen')\n",
    "plt.grid()\n",
    "plt.show()"
   ]
  },
  {
   "cell_type": "markdown",
   "id": "1df30b23",
   "metadata": {},
   "source": [
    "#### Here we have plotted Histplot where we have shown percentage of Grade of Milk Quality, here low quality grade is maximum and high quality is minimum"
   ]
  },
  {
   "cell_type": "markdown",
   "id": "b5ee8f99",
   "metadata": {},
   "source": [
    "## Encoding"
   ]
  },
  {
   "cell_type": "code",
   "execution_count": 11,
   "id": "12940b0d",
   "metadata": {},
   "outputs": [
    {
     "data": {
      "text/plain": [
       "0       0\n",
       "1       0\n",
       "2       1\n",
       "3       1\n",
       "4       2\n",
       "       ..\n",
       "1054    2\n",
       "1055    0\n",
       "1056    1\n",
       "1057    0\n",
       "1058    1\n",
       "Name: Grade, Length: 1059, dtype: int32"
      ]
     },
     "execution_count": 11,
     "metadata": {},
     "output_type": "execute_result"
    }
   ],
   "source": [
    "from sklearn import preprocessing\n",
    "le=preprocessing.LabelEncoder()\n",
    "df['Grade']=le.fit_transform(df['Grade'])\n",
    "df['Grade']"
   ]
  },
  {
   "cell_type": "markdown",
   "id": "316b3c2f",
   "metadata": {},
   "source": [
    "#### By applying Label Encoding to the 'Grade' column, the categorical labels 'high', 'medium', and 'low' have been replaced with numerical representations."
   ]
  },
  {
   "cell_type": "markdown",
   "id": "3e67f290",
   "metadata": {},
   "source": [
    "## Splitting Features and Target"
   ]
  },
  {
   "cell_type": "code",
   "execution_count": 12,
   "id": "e2f68bcd",
   "metadata": {},
   "outputs": [],
   "source": [
    "x = df.iloc[:,:-1]\n",
    "y = df['Grade']"
   ]
  },
  {
   "cell_type": "markdown",
   "id": "d03d3935",
   "metadata": {},
   "source": [
    "#### splitting the DataFrame into two parts - features (x) and the target (y)."
   ]
  },
  {
   "cell_type": "markdown",
   "id": "2e573bd6",
   "metadata": {},
   "source": [
    "## Scaling"
   ]
  },
  {
   "cell_type": "code",
   "execution_count": 13,
   "id": "462a394f",
   "metadata": {},
   "outputs": [],
   "source": [
    "from sklearn.preprocessing import StandardScaler \n",
    "ss=StandardScaler()\n",
    "x.iloc[:,:]=ss.fit_transform(x.iloc[:,:])"
   ]
  },
  {
   "cell_type": "markdown",
   "id": "26dbe0bb",
   "metadata": {},
   "source": [
    "#### Using the StandardScaler from scikit-leam to standardize the numerical features in the DataFrame x."
   ]
  },
  {
   "cell_type": "markdown",
   "id": "7ce3f1d9",
   "metadata": {},
   "source": [
    "## Split data into train and test"
   ]
  },
  {
   "cell_type": "code",
   "execution_count": 14,
   "id": "4a65e00b",
   "metadata": {},
   "outputs": [],
   "source": [
    "from sklearn.model_selection import train_test_split \n",
    "xtrain,xtest,ytrain,ytest=train_test_split(x,y,test_size=0.2,random_state=1)"
   ]
  },
  {
   "cell_type": "markdown",
   "id": "76773b1e",
   "metadata": {},
   "source": [
    "#### Splitting the dataset into separate training and testing sets to evaluate the performance of the trained model."
   ]
  },
  {
   "cell_type": "markdown",
   "id": "22a43f00",
   "metadata": {},
   "source": [
    "## Model Building"
   ]
  },
  {
   "cell_type": "code",
   "execution_count": 15,
   "id": "a1051e31",
   "metadata": {},
   "outputs": [],
   "source": [
    "from sklearn.linear_model import LogisticRegression\n",
    "lr=LogisticRegression()\n",
    "lr.fit(xtrain,ytrain)\n",
    "ypred=lr.predict(xtest)"
   ]
  },
  {
   "cell_type": "markdown",
   "id": "28831b0a",
   "metadata": {},
   "source": [
    "#### Logistic regression model is trained on the training data and the model makes predictions on the test data to obtain the predicted target values."
   ]
  },
  {
   "cell_type": "markdown",
   "id": "a7903e6c",
   "metadata": {},
   "source": [
    "## Evaluate Model"
   ]
  },
  {
   "cell_type": "code",
   "execution_count": 16,
   "id": "98bcdeb5",
   "metadata": {},
   "outputs": [
    {
     "name": "stdout",
     "output_type": "stream",
     "text": [
      "              precision    recall  f1-score   support\n",
      "\n",
      "           0       0.72      0.82      0.77        44\n",
      "           1       0.88      0.90      0.89        92\n",
      "           2       0.96      0.86      0.90        76\n",
      "\n",
      "    accuracy                           0.87       212\n",
      "   macro avg       0.85      0.86      0.85       212\n",
      "weighted avg       0.88      0.87      0.87       212\n",
      "\n"
     ]
    }
   ],
   "source": [
    "from sklearn.metrics import classification_report \n",
    "print(classification_report(ytest,ypred))"
   ]
  },
  {
   "cell_type": "markdown",
   "id": "50089554",
   "metadata": {},
   "source": [
    "# HyperTunning using solver Parameter"
   ]
  },
  {
   "cell_type": "code",
   "execution_count": 17,
   "id": "ce1d140d",
   "metadata": {},
   "outputs": [],
   "source": [
    "from sklearn.linear_model import LogisticRegression\n",
    "lr=LogisticRegression(solver='liblinear')\n",
    "lr.fit(xtrain,ytrain)\n",
    "ypred=lr.predict(xtest)"
   ]
  },
  {
   "cell_type": "code",
   "execution_count": 18,
   "id": "e30f8a95",
   "metadata": {},
   "outputs": [
    {
     "name": "stdout",
     "output_type": "stream",
     "text": [
      "              precision    recall  f1-score   support\n",
      "\n",
      "           0       0.65      0.82      0.73        44\n",
      "           1       0.88      0.86      0.87        92\n",
      "           2       0.97      0.86      0.91        76\n",
      "\n",
      "    accuracy                           0.85       212\n",
      "   macro avg       0.83      0.84      0.83       212\n",
      "weighted avg       0.86      0.85      0.85       212\n",
      "\n"
     ]
    }
   ],
   "source": [
    "from sklearn.metrics import classification_report \n",
    "print(classification_report(ytest,ypred))"
   ]
  },
  {
   "cell_type": "code",
   "execution_count": 19,
   "id": "214d9144",
   "metadata": {},
   "outputs": [],
   "source": [
    "from sklearn.linear_model import LogisticRegression\n",
    "lr=LogisticRegression(solver='saga')\n",
    "lr.fit(xtrain,ytrain)\n",
    "ypred=lr.predict(xtest)"
   ]
  },
  {
   "cell_type": "code",
   "execution_count": 20,
   "id": "916729e9",
   "metadata": {},
   "outputs": [
    {
     "name": "stdout",
     "output_type": "stream",
     "text": [
      "              precision    recall  f1-score   support\n",
      "\n",
      "           0       0.72      0.82      0.77        44\n",
      "           1       0.88      0.90      0.89        92\n",
      "           2       0.96      0.86      0.90        76\n",
      "\n",
      "    accuracy                           0.87       212\n",
      "   macro avg       0.85      0.86      0.85       212\n",
      "weighted avg       0.88      0.87      0.87       212\n",
      "\n"
     ]
    }
   ],
   "source": [
    "from sklearn.metrics import classification_report \n",
    "print(classification_report(ytest,ypred))"
   ]
  },
  {
   "cell_type": "code",
   "execution_count": 26,
   "id": "7c74f6c8",
   "metadata": {},
   "outputs": [],
   "source": [
    "from sklearn.linear_model import LogisticRegression\n",
    "lr=LogisticRegression(solver='saga')\n",
    "lr.fit(xtrain,ytrain)\n",
    "ypred=lr.predict(xtest)"
   ]
  },
  {
   "cell_type": "code",
   "execution_count": 27,
   "id": "801c56d5",
   "metadata": {},
   "outputs": [
    {
     "name": "stdout",
     "output_type": "stream",
     "text": [
      "              precision    recall  f1-score   support\n",
      "\n",
      "           0       0.72      0.82      0.77        44\n",
      "           1       0.88      0.90      0.89        92\n",
      "           2       0.96      0.86      0.90        76\n",
      "\n",
      "    accuracy                           0.87       212\n",
      "   macro avg       0.85      0.86      0.85       212\n",
      "weighted avg       0.88      0.87      0.87       212\n",
      "\n"
     ]
    }
   ],
   "source": [
    "from sklearn.metrics import classification_report \n",
    "print(classification_report(ytest,ypred))"
   ]
  },
  {
   "cell_type": "code",
   "execution_count": 31,
   "id": "2b8bb0fa",
   "metadata": {},
   "outputs": [],
   "source": [
    "def mymodel(model):\n",
    "    model.fit(xtrain,ytrain)\n",
    "    ypred=model.predict(xtest)\n",
    "    \n",
    "    ac=accuracy_score(ytest,ypred)\n",
    "    cs=classification_report(ytest,ypred)\n",
    "    \n",
    "    print(f'accuracy_score: {ac}')\n",
    "    print(f'Classification_report : {cs}')\n",
    "    \n",
    "    return model"
   ]
  },
  {
   "cell_type": "markdown",
   "id": "820fce17",
   "metadata": {},
   "source": [
    "#### Creating a function called mm(model) that takes a machine learning model as input, fits the model on the training data, makes predictions on the test data, and then prints the accuracy score and classification report to evaluate the model's performance on the test data."
   ]
  },
  {
   "cell_type": "code",
   "execution_count": 32,
   "id": "d1912c12",
   "metadata": {},
   "outputs": [],
   "source": [
    "svm=SVC()\n",
    "dt=DecisionTreeClassifier()"
   ]
  },
  {
   "cell_type": "markdown",
   "id": "79a84453",
   "metadata": {},
   "source": [
    "#### In this step, two classifier models, Support Vector Machine (SVM) and Decision Tree, are instantiated."
   ]
  },
  {
   "cell_type": "markdown",
   "id": "7a857676",
   "metadata": {},
   "source": [
    "## Support Vector Machine (SVM)"
   ]
  },
  {
   "cell_type": "code",
   "execution_count": 35,
   "id": "1ee0897c",
   "metadata": {},
   "outputs": [
    {
     "name": "stdout",
     "output_type": "stream",
     "text": [
      "accuracy_score: 0.9292452830188679\n",
      "Classification_report :               precision    recall  f1-score   support\n",
      "\n",
      "           0       0.85      0.93      0.89        44\n",
      "           1       1.00      0.95      0.97        92\n",
      "           2       0.90      0.91      0.90        76\n",
      "\n",
      "    accuracy                           0.93       212\n",
      "   macro avg       0.92      0.93      0.92       212\n",
      "weighted avg       0.93      0.93      0.93       212\n",
      "\n"
     ]
    },
    {
     "data": {
      "text/html": [
       "<style>#sk-container-id-3 {color: black;background-color: white;}#sk-container-id-3 pre{padding: 0;}#sk-container-id-3 div.sk-toggleable {background-color: white;}#sk-container-id-3 label.sk-toggleable__label {cursor: pointer;display: block;width: 100%;margin-bottom: 0;padding: 0.3em;box-sizing: border-box;text-align: center;}#sk-container-id-3 label.sk-toggleable__label-arrow:before {content: \"▸\";float: left;margin-right: 0.25em;color: #696969;}#sk-container-id-3 label.sk-toggleable__label-arrow:hover:before {color: black;}#sk-container-id-3 div.sk-estimator:hover label.sk-toggleable__label-arrow:before {color: black;}#sk-container-id-3 div.sk-toggleable__content {max-height: 0;max-width: 0;overflow: hidden;text-align: left;background-color: #f0f8ff;}#sk-container-id-3 div.sk-toggleable__content pre {margin: 0.2em;color: black;border-radius: 0.25em;background-color: #f0f8ff;}#sk-container-id-3 input.sk-toggleable__control:checked~div.sk-toggleable__content {max-height: 200px;max-width: 100%;overflow: auto;}#sk-container-id-3 input.sk-toggleable__control:checked~label.sk-toggleable__label-arrow:before {content: \"▾\";}#sk-container-id-3 div.sk-estimator input.sk-toggleable__control:checked~label.sk-toggleable__label {background-color: #d4ebff;}#sk-container-id-3 div.sk-label input.sk-toggleable__control:checked~label.sk-toggleable__label {background-color: #d4ebff;}#sk-container-id-3 input.sk-hidden--visually {border: 0;clip: rect(1px 1px 1px 1px);clip: rect(1px, 1px, 1px, 1px);height: 1px;margin: -1px;overflow: hidden;padding: 0;position: absolute;width: 1px;}#sk-container-id-3 div.sk-estimator {font-family: monospace;background-color: #f0f8ff;border: 1px dotted black;border-radius: 0.25em;box-sizing: border-box;margin-bottom: 0.5em;}#sk-container-id-3 div.sk-estimator:hover {background-color: #d4ebff;}#sk-container-id-3 div.sk-parallel-item::after {content: \"\";width: 100%;border-bottom: 1px solid gray;flex-grow: 1;}#sk-container-id-3 div.sk-label:hover label.sk-toggleable__label {background-color: #d4ebff;}#sk-container-id-3 div.sk-serial::before {content: \"\";position: absolute;border-left: 1px solid gray;box-sizing: border-box;top: 0;bottom: 0;left: 50%;z-index: 0;}#sk-container-id-3 div.sk-serial {display: flex;flex-direction: column;align-items: center;background-color: white;padding-right: 0.2em;padding-left: 0.2em;position: relative;}#sk-container-id-3 div.sk-item {position: relative;z-index: 1;}#sk-container-id-3 div.sk-parallel {display: flex;align-items: stretch;justify-content: center;background-color: white;position: relative;}#sk-container-id-3 div.sk-item::before, #sk-container-id-3 div.sk-parallel-item::before {content: \"\";position: absolute;border-left: 1px solid gray;box-sizing: border-box;top: 0;bottom: 0;left: 50%;z-index: -1;}#sk-container-id-3 div.sk-parallel-item {display: flex;flex-direction: column;z-index: 1;position: relative;background-color: white;}#sk-container-id-3 div.sk-parallel-item:first-child::after {align-self: flex-end;width: 50%;}#sk-container-id-3 div.sk-parallel-item:last-child::after {align-self: flex-start;width: 50%;}#sk-container-id-3 div.sk-parallel-item:only-child::after {width: 0;}#sk-container-id-3 div.sk-dashed-wrapped {border: 1px dashed gray;margin: 0 0.4em 0.5em 0.4em;box-sizing: border-box;padding-bottom: 0.4em;background-color: white;}#sk-container-id-3 div.sk-label label {font-family: monospace;font-weight: bold;display: inline-block;line-height: 1.2em;}#sk-container-id-3 div.sk-label-container {text-align: center;}#sk-container-id-3 div.sk-container {/* jupyter's `normalize.less` sets `[hidden] { display: none; }` but bootstrap.min.css set `[hidden] { display: none !important; }` so we also need the `!important` here to be able to override the default hidden behavior on the sphinx rendered scikit-learn.org. See: https://github.com/scikit-learn/scikit-learn/issues/21755 */display: inline-block !important;position: relative;}#sk-container-id-3 div.sk-text-repr-fallback {display: none;}</style><div id=\"sk-container-id-3\" class=\"sk-top-container\"><div class=\"sk-text-repr-fallback\"><pre>SVC()</pre><b>In a Jupyter environment, please rerun this cell to show the HTML representation or trust the notebook. <br />On GitHub, the HTML representation is unable to render, please try loading this page with nbviewer.org.</b></div><div class=\"sk-container\" hidden><div class=\"sk-item\"><div class=\"sk-estimator sk-toggleable\"><input class=\"sk-toggleable__control sk-hidden--visually\" id=\"sk-estimator-id-3\" type=\"checkbox\" checked><label for=\"sk-estimator-id-3\" class=\"sk-toggleable__label sk-toggleable__label-arrow\">SVC</label><div class=\"sk-toggleable__content\"><pre>SVC()</pre></div></div></div></div></div>"
      ],
      "text/plain": [
       "SVC()"
      ]
     },
     "execution_count": 35,
     "metadata": {},
     "output_type": "execute_result"
    }
   ],
   "source": [
    "mymodel(svm)"
   ]
  },
  {
   "cell_type": "markdown",
   "id": "7bf9c00a",
   "metadata": {},
   "source": [
    "#### mm function is called with the Support Vector Machine (SVM) model as an argument, which fits the SVM model on the training data, makes predictions on the test data, and prints the accuracy score and classification report.\n",
    "\n",
    "I am getting accuracy of 95% from Support Vector Machine."
   ]
  },
  {
   "cell_type": "markdown",
   "id": "484d3264",
   "metadata": {},
   "source": [
    "## HPT SVM"
   ]
  },
  {
   "cell_type": "code",
   "execution_count": 42,
   "id": "4dfdb586",
   "metadata": {},
   "outputs": [
    {
     "name": "stdout",
     "output_type": "stream",
     "text": [
      "accuracy_score: 0.8679245283018868\n",
      "Classification_report :               precision    recall  f1-score   support\n",
      "\n",
      "           0       0.69      0.91      0.78        44\n",
      "           1       0.92      0.85      0.88        92\n",
      "           2       0.96      0.87      0.91        76\n",
      "\n",
      "    accuracy                           0.87       212\n",
      "   macro avg       0.85      0.88      0.86       212\n",
      "weighted avg       0.88      0.87      0.87       212\n",
      "\n"
     ]
    },
    {
     "data": {
      "text/html": [
       "<style>#sk-container-id-4 {color: black;background-color: white;}#sk-container-id-4 pre{padding: 0;}#sk-container-id-4 div.sk-toggleable {background-color: white;}#sk-container-id-4 label.sk-toggleable__label {cursor: pointer;display: block;width: 100%;margin-bottom: 0;padding: 0.3em;box-sizing: border-box;text-align: center;}#sk-container-id-4 label.sk-toggleable__label-arrow:before {content: \"▸\";float: left;margin-right: 0.25em;color: #696969;}#sk-container-id-4 label.sk-toggleable__label-arrow:hover:before {color: black;}#sk-container-id-4 div.sk-estimator:hover label.sk-toggleable__label-arrow:before {color: black;}#sk-container-id-4 div.sk-toggleable__content {max-height: 0;max-width: 0;overflow: hidden;text-align: left;background-color: #f0f8ff;}#sk-container-id-4 div.sk-toggleable__content pre {margin: 0.2em;color: black;border-radius: 0.25em;background-color: #f0f8ff;}#sk-container-id-4 input.sk-toggleable__control:checked~div.sk-toggleable__content {max-height: 200px;max-width: 100%;overflow: auto;}#sk-container-id-4 input.sk-toggleable__control:checked~label.sk-toggleable__label-arrow:before {content: \"▾\";}#sk-container-id-4 div.sk-estimator input.sk-toggleable__control:checked~label.sk-toggleable__label {background-color: #d4ebff;}#sk-container-id-4 div.sk-label input.sk-toggleable__control:checked~label.sk-toggleable__label {background-color: #d4ebff;}#sk-container-id-4 input.sk-hidden--visually {border: 0;clip: rect(1px 1px 1px 1px);clip: rect(1px, 1px, 1px, 1px);height: 1px;margin: -1px;overflow: hidden;padding: 0;position: absolute;width: 1px;}#sk-container-id-4 div.sk-estimator {font-family: monospace;background-color: #f0f8ff;border: 1px dotted black;border-radius: 0.25em;box-sizing: border-box;margin-bottom: 0.5em;}#sk-container-id-4 div.sk-estimator:hover {background-color: #d4ebff;}#sk-container-id-4 div.sk-parallel-item::after {content: \"\";width: 100%;border-bottom: 1px solid gray;flex-grow: 1;}#sk-container-id-4 div.sk-label:hover label.sk-toggleable__label {background-color: #d4ebff;}#sk-container-id-4 div.sk-serial::before {content: \"\";position: absolute;border-left: 1px solid gray;box-sizing: border-box;top: 0;bottom: 0;left: 50%;z-index: 0;}#sk-container-id-4 div.sk-serial {display: flex;flex-direction: column;align-items: center;background-color: white;padding-right: 0.2em;padding-left: 0.2em;position: relative;}#sk-container-id-4 div.sk-item {position: relative;z-index: 1;}#sk-container-id-4 div.sk-parallel {display: flex;align-items: stretch;justify-content: center;background-color: white;position: relative;}#sk-container-id-4 div.sk-item::before, #sk-container-id-4 div.sk-parallel-item::before {content: \"\";position: absolute;border-left: 1px solid gray;box-sizing: border-box;top: 0;bottom: 0;left: 50%;z-index: -1;}#sk-container-id-4 div.sk-parallel-item {display: flex;flex-direction: column;z-index: 1;position: relative;background-color: white;}#sk-container-id-4 div.sk-parallel-item:first-child::after {align-self: flex-end;width: 50%;}#sk-container-id-4 div.sk-parallel-item:last-child::after {align-self: flex-start;width: 50%;}#sk-container-id-4 div.sk-parallel-item:only-child::after {width: 0;}#sk-container-id-4 div.sk-dashed-wrapped {border: 1px dashed gray;margin: 0 0.4em 0.5em 0.4em;box-sizing: border-box;padding-bottom: 0.4em;background-color: white;}#sk-container-id-4 div.sk-label label {font-family: monospace;font-weight: bold;display: inline-block;line-height: 1.2em;}#sk-container-id-4 div.sk-label-container {text-align: center;}#sk-container-id-4 div.sk-container {/* jupyter's `normalize.less` sets `[hidden] { display: none; }` but bootstrap.min.css set `[hidden] { display: none !important; }` so we also need the `!important` here to be able to override the default hidden behavior on the sphinx rendered scikit-learn.org. See: https://github.com/scikit-learn/scikit-learn/issues/21755 */display: inline-block !important;position: relative;}#sk-container-id-4 div.sk-text-repr-fallback {display: none;}</style><div id=\"sk-container-id-4\" class=\"sk-top-container\"><div class=\"sk-text-repr-fallback\"><pre>SVC(kernel=&#x27;linear&#x27;)</pre><b>In a Jupyter environment, please rerun this cell to show the HTML representation or trust the notebook. <br />On GitHub, the HTML representation is unable to render, please try loading this page with nbviewer.org.</b></div><div class=\"sk-container\" hidden><div class=\"sk-item\"><div class=\"sk-estimator sk-toggleable\"><input class=\"sk-toggleable__control sk-hidden--visually\" id=\"sk-estimator-id-4\" type=\"checkbox\" checked><label for=\"sk-estimator-id-4\" class=\"sk-toggleable__label sk-toggleable__label-arrow\">SVC</label><div class=\"sk-toggleable__content\"><pre>SVC(kernel=&#x27;linear&#x27;)</pre></div></div></div></div></div>"
      ],
      "text/plain": [
       "SVC(kernel='linear')"
      ]
     },
     "execution_count": 42,
     "metadata": {},
     "output_type": "execute_result"
    }
   ],
   "source": [
    "svm1 =SVC(kernel=\"linear\")\n",
    "mymodel(svm1)"
   ]
  },
  {
   "cell_type": "markdown",
   "id": "16904bdb",
   "metadata": {},
   "source": [
    "#### Rebuilding model with the 'linear' kemel and the classification report is printed\n",
    "\n"
   ]
  },
  {
   "cell_type": "markdown",
   "id": "223e4b67",
   "metadata": {},
   "source": [
    "#### I am getting accuracy of 85% by using \"linear\" kernel in Support Vector Machine."
   ]
  },
  {
   "cell_type": "code",
   "execution_count": 45,
   "id": "343d16d9",
   "metadata": {},
   "outputs": [
    {
     "name": "stdout",
     "output_type": "stream",
     "text": [
      "accuracy_score: 0.8915094339622641\n",
      "Classification_report :               precision    recall  f1-score   support\n",
      "\n",
      "           0       0.84      0.84      0.84        44\n",
      "           1       0.95      0.90      0.93        92\n",
      "           2       0.85      0.91      0.88        76\n",
      "\n",
      "    accuracy                           0.89       212\n",
      "   macro avg       0.88      0.88      0.88       212\n",
      "weighted avg       0.89      0.89      0.89       212\n",
      "\n"
     ]
    },
    {
     "data": {
      "text/html": [
       "<style>#sk-container-id-5 {color: black;background-color: white;}#sk-container-id-5 pre{padding: 0;}#sk-container-id-5 div.sk-toggleable {background-color: white;}#sk-container-id-5 label.sk-toggleable__label {cursor: pointer;display: block;width: 100%;margin-bottom: 0;padding: 0.3em;box-sizing: border-box;text-align: center;}#sk-container-id-5 label.sk-toggleable__label-arrow:before {content: \"▸\";float: left;margin-right: 0.25em;color: #696969;}#sk-container-id-5 label.sk-toggleable__label-arrow:hover:before {color: black;}#sk-container-id-5 div.sk-estimator:hover label.sk-toggleable__label-arrow:before {color: black;}#sk-container-id-5 div.sk-toggleable__content {max-height: 0;max-width: 0;overflow: hidden;text-align: left;background-color: #f0f8ff;}#sk-container-id-5 div.sk-toggleable__content pre {margin: 0.2em;color: black;border-radius: 0.25em;background-color: #f0f8ff;}#sk-container-id-5 input.sk-toggleable__control:checked~div.sk-toggleable__content {max-height: 200px;max-width: 100%;overflow: auto;}#sk-container-id-5 input.sk-toggleable__control:checked~label.sk-toggleable__label-arrow:before {content: \"▾\";}#sk-container-id-5 div.sk-estimator input.sk-toggleable__control:checked~label.sk-toggleable__label {background-color: #d4ebff;}#sk-container-id-5 div.sk-label input.sk-toggleable__control:checked~label.sk-toggleable__label {background-color: #d4ebff;}#sk-container-id-5 input.sk-hidden--visually {border: 0;clip: rect(1px 1px 1px 1px);clip: rect(1px, 1px, 1px, 1px);height: 1px;margin: -1px;overflow: hidden;padding: 0;position: absolute;width: 1px;}#sk-container-id-5 div.sk-estimator {font-family: monospace;background-color: #f0f8ff;border: 1px dotted black;border-radius: 0.25em;box-sizing: border-box;margin-bottom: 0.5em;}#sk-container-id-5 div.sk-estimator:hover {background-color: #d4ebff;}#sk-container-id-5 div.sk-parallel-item::after {content: \"\";width: 100%;border-bottom: 1px solid gray;flex-grow: 1;}#sk-container-id-5 div.sk-label:hover label.sk-toggleable__label {background-color: #d4ebff;}#sk-container-id-5 div.sk-serial::before {content: \"\";position: absolute;border-left: 1px solid gray;box-sizing: border-box;top: 0;bottom: 0;left: 50%;z-index: 0;}#sk-container-id-5 div.sk-serial {display: flex;flex-direction: column;align-items: center;background-color: white;padding-right: 0.2em;padding-left: 0.2em;position: relative;}#sk-container-id-5 div.sk-item {position: relative;z-index: 1;}#sk-container-id-5 div.sk-parallel {display: flex;align-items: stretch;justify-content: center;background-color: white;position: relative;}#sk-container-id-5 div.sk-item::before, #sk-container-id-5 div.sk-parallel-item::before {content: \"\";position: absolute;border-left: 1px solid gray;box-sizing: border-box;top: 0;bottom: 0;left: 50%;z-index: -1;}#sk-container-id-5 div.sk-parallel-item {display: flex;flex-direction: column;z-index: 1;position: relative;background-color: white;}#sk-container-id-5 div.sk-parallel-item:first-child::after {align-self: flex-end;width: 50%;}#sk-container-id-5 div.sk-parallel-item:last-child::after {align-self: flex-start;width: 50%;}#sk-container-id-5 div.sk-parallel-item:only-child::after {width: 0;}#sk-container-id-5 div.sk-dashed-wrapped {border: 1px dashed gray;margin: 0 0.4em 0.5em 0.4em;box-sizing: border-box;padding-bottom: 0.4em;background-color: white;}#sk-container-id-5 div.sk-label label {font-family: monospace;font-weight: bold;display: inline-block;line-height: 1.2em;}#sk-container-id-5 div.sk-label-container {text-align: center;}#sk-container-id-5 div.sk-container {/* jupyter's `normalize.less` sets `[hidden] { display: none; }` but bootstrap.min.css set `[hidden] { display: none !important; }` so we also need the `!important` here to be able to override the default hidden behavior on the sphinx rendered scikit-learn.org. See: https://github.com/scikit-learn/scikit-learn/issues/21755 */display: inline-block !important;position: relative;}#sk-container-id-5 div.sk-text-repr-fallback {display: none;}</style><div id=\"sk-container-id-5\" class=\"sk-top-container\"><div class=\"sk-text-repr-fallback\"><pre>SVC(kernel=&#x27;poly&#x27;)</pre><b>In a Jupyter environment, please rerun this cell to show the HTML representation or trust the notebook. <br />On GitHub, the HTML representation is unable to render, please try loading this page with nbviewer.org.</b></div><div class=\"sk-container\" hidden><div class=\"sk-item\"><div class=\"sk-estimator sk-toggleable\"><input class=\"sk-toggleable__control sk-hidden--visually\" id=\"sk-estimator-id-5\" type=\"checkbox\" checked><label for=\"sk-estimator-id-5\" class=\"sk-toggleable__label sk-toggleable__label-arrow\">SVC</label><div class=\"sk-toggleable__content\"><pre>SVC(kernel=&#x27;poly&#x27;)</pre></div></div></div></div></div>"
      ],
      "text/plain": [
       "SVC(kernel='poly')"
      ]
     },
     "execution_count": 45,
     "metadata": {},
     "output_type": "execute_result"
    }
   ],
   "source": [
    "svm2=SVC(kernel=\"poly\")\n",
    "mymodel(svm2)"
   ]
  },
  {
   "cell_type": "markdown",
   "id": "1460367d",
   "metadata": {},
   "source": [
    "#### Rebuilding model with the 'poly' kernel and the classification report is printed."
   ]
  },
  {
   "cell_type": "markdown",
   "id": "715d8a5f",
   "metadata": {},
   "source": [
    "#### I am getting accuracy of 92% by using \"poly\" kernel in Support Vector Machine"
   ]
  },
  {
   "cell_type": "code",
   "execution_count": 46,
   "id": "100dd74f",
   "metadata": {},
   "outputs": [
    {
     "name": "stdout",
     "output_type": "stream",
     "text": [
      "accuracy_score: 0.9292452830188679\n",
      "Classification_report :               precision    recall  f1-score   support\n",
      "\n",
      "           0       0.85      0.93      0.89        44\n",
      "           1       1.00      0.95      0.97        92\n",
      "           2       0.90      0.91      0.90        76\n",
      "\n",
      "    accuracy                           0.93       212\n",
      "   macro avg       0.92      0.93      0.92       212\n",
      "weighted avg       0.93      0.93      0.93       212\n",
      "\n"
     ]
    },
    {
     "data": {
      "text/html": [
       "<style>#sk-container-id-6 {color: black;background-color: white;}#sk-container-id-6 pre{padding: 0;}#sk-container-id-6 div.sk-toggleable {background-color: white;}#sk-container-id-6 label.sk-toggleable__label {cursor: pointer;display: block;width: 100%;margin-bottom: 0;padding: 0.3em;box-sizing: border-box;text-align: center;}#sk-container-id-6 label.sk-toggleable__label-arrow:before {content: \"▸\";float: left;margin-right: 0.25em;color: #696969;}#sk-container-id-6 label.sk-toggleable__label-arrow:hover:before {color: black;}#sk-container-id-6 div.sk-estimator:hover label.sk-toggleable__label-arrow:before {color: black;}#sk-container-id-6 div.sk-toggleable__content {max-height: 0;max-width: 0;overflow: hidden;text-align: left;background-color: #f0f8ff;}#sk-container-id-6 div.sk-toggleable__content pre {margin: 0.2em;color: black;border-radius: 0.25em;background-color: #f0f8ff;}#sk-container-id-6 input.sk-toggleable__control:checked~div.sk-toggleable__content {max-height: 200px;max-width: 100%;overflow: auto;}#sk-container-id-6 input.sk-toggleable__control:checked~label.sk-toggleable__label-arrow:before {content: \"▾\";}#sk-container-id-6 div.sk-estimator input.sk-toggleable__control:checked~label.sk-toggleable__label {background-color: #d4ebff;}#sk-container-id-6 div.sk-label input.sk-toggleable__control:checked~label.sk-toggleable__label {background-color: #d4ebff;}#sk-container-id-6 input.sk-hidden--visually {border: 0;clip: rect(1px 1px 1px 1px);clip: rect(1px, 1px, 1px, 1px);height: 1px;margin: -1px;overflow: hidden;padding: 0;position: absolute;width: 1px;}#sk-container-id-6 div.sk-estimator {font-family: monospace;background-color: #f0f8ff;border: 1px dotted black;border-radius: 0.25em;box-sizing: border-box;margin-bottom: 0.5em;}#sk-container-id-6 div.sk-estimator:hover {background-color: #d4ebff;}#sk-container-id-6 div.sk-parallel-item::after {content: \"\";width: 100%;border-bottom: 1px solid gray;flex-grow: 1;}#sk-container-id-6 div.sk-label:hover label.sk-toggleable__label {background-color: #d4ebff;}#sk-container-id-6 div.sk-serial::before {content: \"\";position: absolute;border-left: 1px solid gray;box-sizing: border-box;top: 0;bottom: 0;left: 50%;z-index: 0;}#sk-container-id-6 div.sk-serial {display: flex;flex-direction: column;align-items: center;background-color: white;padding-right: 0.2em;padding-left: 0.2em;position: relative;}#sk-container-id-6 div.sk-item {position: relative;z-index: 1;}#sk-container-id-6 div.sk-parallel {display: flex;align-items: stretch;justify-content: center;background-color: white;position: relative;}#sk-container-id-6 div.sk-item::before, #sk-container-id-6 div.sk-parallel-item::before {content: \"\";position: absolute;border-left: 1px solid gray;box-sizing: border-box;top: 0;bottom: 0;left: 50%;z-index: -1;}#sk-container-id-6 div.sk-parallel-item {display: flex;flex-direction: column;z-index: 1;position: relative;background-color: white;}#sk-container-id-6 div.sk-parallel-item:first-child::after {align-self: flex-end;width: 50%;}#sk-container-id-6 div.sk-parallel-item:last-child::after {align-self: flex-start;width: 50%;}#sk-container-id-6 div.sk-parallel-item:only-child::after {width: 0;}#sk-container-id-6 div.sk-dashed-wrapped {border: 1px dashed gray;margin: 0 0.4em 0.5em 0.4em;box-sizing: border-box;padding-bottom: 0.4em;background-color: white;}#sk-container-id-6 div.sk-label label {font-family: monospace;font-weight: bold;display: inline-block;line-height: 1.2em;}#sk-container-id-6 div.sk-label-container {text-align: center;}#sk-container-id-6 div.sk-container {/* jupyter's `normalize.less` sets `[hidden] { display: none; }` but bootstrap.min.css set `[hidden] { display: none !important; }` so we also need the `!important` here to be able to override the default hidden behavior on the sphinx rendered scikit-learn.org. See: https://github.com/scikit-learn/scikit-learn/issues/21755 */display: inline-block !important;position: relative;}#sk-container-id-6 div.sk-text-repr-fallback {display: none;}</style><div id=\"sk-container-id-6\" class=\"sk-top-container\"><div class=\"sk-text-repr-fallback\"><pre>SVC()</pre><b>In a Jupyter environment, please rerun this cell to show the HTML representation or trust the notebook. <br />On GitHub, the HTML representation is unable to render, please try loading this page with nbviewer.org.</b></div><div class=\"sk-container\" hidden><div class=\"sk-item\"><div class=\"sk-estimator sk-toggleable\"><input class=\"sk-toggleable__control sk-hidden--visually\" id=\"sk-estimator-id-6\" type=\"checkbox\" checked><label for=\"sk-estimator-id-6\" class=\"sk-toggleable__label sk-toggleable__label-arrow\">SVC</label><div class=\"sk-toggleable__content\"><pre>SVC()</pre></div></div></div></div></div>"
      ],
      "text/plain": [
       "SVC()"
      ]
     },
     "execution_count": 46,
     "metadata": {},
     "output_type": "execute_result"
    }
   ],
   "source": [
    "svm4=SVC(kernel=\"rbf\")\n",
    "mymodel(svm4)"
   ]
  },
  {
   "cell_type": "markdown",
   "id": "4f0eef84",
   "metadata": {},
   "source": [
    "#### Rebuilding model with the 'rbf kernel and the classification report is printed."
   ]
  },
  {
   "cell_type": "markdown",
   "id": "16478a52",
   "metadata": {},
   "source": [
    "#### I am getting accuracy of 95% by using \"rbf' kernel in Support Vector Machine."
   ]
  },
  {
   "cell_type": "markdown",
   "id": "3c1bb01c",
   "metadata": {},
   "source": [
    "#### In Support Vector Machine \"rbf\" Kernel is giving us the best Accuracy"
   ]
  },
  {
   "cell_type": "markdown",
   "id": "4eb83fd6",
   "metadata": {},
   "source": [
    "## Decision Tree"
   ]
  },
  {
   "cell_type": "code",
   "execution_count": 47,
   "id": "11dee9d6",
   "metadata": {},
   "outputs": [
    {
     "name": "stdout",
     "output_type": "stream",
     "text": [
      "accuracy_score: 1.0\n",
      "Classification_report :               precision    recall  f1-score   support\n",
      "\n",
      "           0       1.00      1.00      1.00        44\n",
      "           1       1.00      1.00      1.00        92\n",
      "           2       1.00      1.00      1.00        76\n",
      "\n",
      "    accuracy                           1.00       212\n",
      "   macro avg       1.00      1.00      1.00       212\n",
      "weighted avg       1.00      1.00      1.00       212\n",
      "\n"
     ]
    },
    {
     "data": {
      "text/html": [
       "<style>#sk-container-id-7 {color: black;background-color: white;}#sk-container-id-7 pre{padding: 0;}#sk-container-id-7 div.sk-toggleable {background-color: white;}#sk-container-id-7 label.sk-toggleable__label {cursor: pointer;display: block;width: 100%;margin-bottom: 0;padding: 0.3em;box-sizing: border-box;text-align: center;}#sk-container-id-7 label.sk-toggleable__label-arrow:before {content: \"▸\";float: left;margin-right: 0.25em;color: #696969;}#sk-container-id-7 label.sk-toggleable__label-arrow:hover:before {color: black;}#sk-container-id-7 div.sk-estimator:hover label.sk-toggleable__label-arrow:before {color: black;}#sk-container-id-7 div.sk-toggleable__content {max-height: 0;max-width: 0;overflow: hidden;text-align: left;background-color: #f0f8ff;}#sk-container-id-7 div.sk-toggleable__content pre {margin: 0.2em;color: black;border-radius: 0.25em;background-color: #f0f8ff;}#sk-container-id-7 input.sk-toggleable__control:checked~div.sk-toggleable__content {max-height: 200px;max-width: 100%;overflow: auto;}#sk-container-id-7 input.sk-toggleable__control:checked~label.sk-toggleable__label-arrow:before {content: \"▾\";}#sk-container-id-7 div.sk-estimator input.sk-toggleable__control:checked~label.sk-toggleable__label {background-color: #d4ebff;}#sk-container-id-7 div.sk-label input.sk-toggleable__control:checked~label.sk-toggleable__label {background-color: #d4ebff;}#sk-container-id-7 input.sk-hidden--visually {border: 0;clip: rect(1px 1px 1px 1px);clip: rect(1px, 1px, 1px, 1px);height: 1px;margin: -1px;overflow: hidden;padding: 0;position: absolute;width: 1px;}#sk-container-id-7 div.sk-estimator {font-family: monospace;background-color: #f0f8ff;border: 1px dotted black;border-radius: 0.25em;box-sizing: border-box;margin-bottom: 0.5em;}#sk-container-id-7 div.sk-estimator:hover {background-color: #d4ebff;}#sk-container-id-7 div.sk-parallel-item::after {content: \"\";width: 100%;border-bottom: 1px solid gray;flex-grow: 1;}#sk-container-id-7 div.sk-label:hover label.sk-toggleable__label {background-color: #d4ebff;}#sk-container-id-7 div.sk-serial::before {content: \"\";position: absolute;border-left: 1px solid gray;box-sizing: border-box;top: 0;bottom: 0;left: 50%;z-index: 0;}#sk-container-id-7 div.sk-serial {display: flex;flex-direction: column;align-items: center;background-color: white;padding-right: 0.2em;padding-left: 0.2em;position: relative;}#sk-container-id-7 div.sk-item {position: relative;z-index: 1;}#sk-container-id-7 div.sk-parallel {display: flex;align-items: stretch;justify-content: center;background-color: white;position: relative;}#sk-container-id-7 div.sk-item::before, #sk-container-id-7 div.sk-parallel-item::before {content: \"\";position: absolute;border-left: 1px solid gray;box-sizing: border-box;top: 0;bottom: 0;left: 50%;z-index: -1;}#sk-container-id-7 div.sk-parallel-item {display: flex;flex-direction: column;z-index: 1;position: relative;background-color: white;}#sk-container-id-7 div.sk-parallel-item:first-child::after {align-self: flex-end;width: 50%;}#sk-container-id-7 div.sk-parallel-item:last-child::after {align-self: flex-start;width: 50%;}#sk-container-id-7 div.sk-parallel-item:only-child::after {width: 0;}#sk-container-id-7 div.sk-dashed-wrapped {border: 1px dashed gray;margin: 0 0.4em 0.5em 0.4em;box-sizing: border-box;padding-bottom: 0.4em;background-color: white;}#sk-container-id-7 div.sk-label label {font-family: monospace;font-weight: bold;display: inline-block;line-height: 1.2em;}#sk-container-id-7 div.sk-label-container {text-align: center;}#sk-container-id-7 div.sk-container {/* jupyter's `normalize.less` sets `[hidden] { display: none; }` but bootstrap.min.css set `[hidden] { display: none !important; }` so we also need the `!important` here to be able to override the default hidden behavior on the sphinx rendered scikit-learn.org. See: https://github.com/scikit-learn/scikit-learn/issues/21755 */display: inline-block !important;position: relative;}#sk-container-id-7 div.sk-text-repr-fallback {display: none;}</style><div id=\"sk-container-id-7\" class=\"sk-top-container\"><div class=\"sk-text-repr-fallback\"><pre>DecisionTreeClassifier()</pre><b>In a Jupyter environment, please rerun this cell to show the HTML representation or trust the notebook. <br />On GitHub, the HTML representation is unable to render, please try loading this page with nbviewer.org.</b></div><div class=\"sk-container\" hidden><div class=\"sk-item\"><div class=\"sk-estimator sk-toggleable\"><input class=\"sk-toggleable__control sk-hidden--visually\" id=\"sk-estimator-id-7\" type=\"checkbox\" checked><label for=\"sk-estimator-id-7\" class=\"sk-toggleable__label sk-toggleable__label-arrow\">DecisionTreeClassifier</label><div class=\"sk-toggleable__content\"><pre>DecisionTreeClassifier()</pre></div></div></div></div></div>"
      ],
      "text/plain": [
       "DecisionTreeClassifier()"
      ]
     },
     "execution_count": 47,
     "metadata": {},
     "output_type": "execute_result"
    }
   ],
   "source": [
    "mymodel(dt)"
   ]
  },
  {
   "cell_type": "markdown",
   "id": "6253337f",
   "metadata": {},
   "source": [
    "#### mymodel function is called with the Decision Tree model as an argument, which fits the SVM model on the training data, makes predictions on the test data, and prints the accuracy score and classification report."
   ]
  },
  {
   "cell_type": "code",
   "execution_count": 49,
   "id": "b1de926d",
   "metadata": {},
   "outputs": [
    {
     "data": {
      "image/png": "[encoded data removed]",
      "text/plain": [
       "<Figure size 1800x720 with 1 Axes>"
      ]
     },
     "metadata": {
      "needs_background": "light"
     },
     "output_type": "display_data"
    }
   ],
   "source": [
    "fig,ax=plt.subplots(figsize=(25,10))\n",
    "chart=tree.plot_tree(dt,max_depth=5,feature_names=x.columns,filled=True,fontsize=12)\n",
    "plt.savefig('Dt Figure.pdf') ###we can also save as 'Dt Figure.jpg'"
   ]
  },
  {
   "cell_type": "code",
   "execution_count": 50,
   "id": "21aa452d",
   "metadata": {},
   "outputs": [
    {
     "data": {
      "text/plain": [
       "1.0"
      ]
     },
     "execution_count": 50,
     "metadata": {},
     "output_type": "execute_result"
    }
   ],
   "source": [
    "dt.score(xtrain,ytrain)"
   ]
  },
  {
   "cell_type": "code",
   "execution_count": 51,
   "id": "bc1dfffb",
   "metadata": {},
   "outputs": [
    {
     "data": {
      "text/plain": [
       "1.0"
      ]
     },
     "execution_count": 51,
     "metadata": {},
     "output_type": "execute_result"
    }
   ],
   "source": [
    "dt.score(xtest,ytest)"
   ]
  },
  {
   "cell_type": "markdown",
   "id": "9435e6f8",
   "metadata": {},
   "source": [
    "#### Checking overfitting"
   ]
  },
  {
   "cell_type": "markdown",
   "id": "85d918ca",
   "metadata": {},
   "source": [
    "#### Pruning Techniques"
   ]
  },
  {
   "cell_type": "markdown",
   "id": "035002c9",
   "metadata": {},
   "source": [
    "### Max Depth"
   ]
  },
  {
   "cell_type": "code",
   "execution_count": 53,
   "id": "c68bc326",
   "metadata": {},
   "outputs": [
    {
     "name": "stdout",
     "output_type": "stream",
     "text": [
      "max dept of 1 is 0.5518867924528302\n",
      "max dept of 2 is 0.7264150943396226\n",
      "max dept of 3 is 0.7877358490566038\n",
      "max dept of 4 is 0.8726415094339622\n",
      "max dept of 5 is 0.910377358490566\n",
      "max dept of 6 is 0.9198113207547169\n",
      "max dept of 7 is 0.9811320754716981\n",
      "max dept of 8 is 0.9811320754716981\n",
      "max dept of 9 is 0.9858490566037735\n",
      "max dept of 10 is 1.0\n",
      "max dept of 11 is 1.0\n",
      "max dept of 12 is 1.0\n",
      "max dept of 13 is 1.0\n",
      "max dept of 14 is 1.0\n",
      "max dept of 15 is 1.0\n",
      "max dept of 16 is 1.0\n",
      "max dept of 17 is 1.0\n",
      "max dept of 18 is 1.0\n",
      "max dept of 19 is 1.0\n",
      "max dept of 20 is 1.0\n",
      "max dept of 21 is 1.0\n",
      "max dept of 22 is 1.0\n",
      "max dept of 23 is 1.0\n",
      "max dept of 24 is 1.0\n",
      "max dept of 25 is 1.0\n",
      "max dept of 26 is 1.0\n",
      "max dept of 27 is 1.0\n",
      "max dept of 28 is 1.0\n",
      "max dept of 29 is 1.0\n"
     ]
    }
   ],
   "source": [
    "for i in range(1,30):\n",
    "    dt1= DecisionTreeClassifier(max_depth=i)\n",
    "    dt1.fit(xtrain,ytrain)\n",
    "    ypred=dt1.predict(xtest)\n",
    "    ac= accuracy_score(ytest,ypred)\n",
    "    ac= accuracy_score(ytest,ypred)\n",
    "    print(f\"max dept of {i} is {ac}\")\n"
   ]
  },
  {
   "cell_type": "code",
   "execution_count": 54,
   "id": "6dfaae16",
   "metadata": {},
   "outputs": [
    {
     "name": "stdout",
     "output_type": "stream",
     "text": [
      "accuracy_score: 0.9811320754716981\n",
      "Classification_report :               precision    recall  f1-score   support\n",
      "\n",
      "           0       0.98      0.93      0.95        44\n",
      "           1       1.00      1.00      1.00        92\n",
      "           2       0.96      0.99      0.97        76\n",
      "\n",
      "    accuracy                           0.98       212\n",
      "   macro avg       0.98      0.97      0.98       212\n",
      "weighted avg       0.98      0.98      0.98       212\n",
      "\n"
     ]
    },
    {
     "data": {
      "text/html": [
       "<style>#sk-container-id-8 {color: black;background-color: white;}#sk-container-id-8 pre{padding: 0;}#sk-container-id-8 div.sk-toggleable {background-color: white;}#sk-container-id-8 label.sk-toggleable__label {cursor: pointer;display: block;width: 100%;margin-bottom: 0;padding: 0.3em;box-sizing: border-box;text-align: center;}#sk-container-id-8 label.sk-toggleable__label-arrow:before {content: \"▸\";float: left;margin-right: 0.25em;color: #696969;}#sk-container-id-8 label.sk-toggleable__label-arrow:hover:before {color: black;}#sk-container-id-8 div.sk-estimator:hover label.sk-toggleable__label-arrow:before {color: black;}#sk-container-id-8 div.sk-toggleable__content {max-height: 0;max-width: 0;overflow: hidden;text-align: left;background-color: #f0f8ff;}#sk-container-id-8 div.sk-toggleable__content pre {margin: 0.2em;color: black;border-radius: 0.25em;background-color: #f0f8ff;}#sk-container-id-8 input.sk-toggleable__control:checked~div.sk-toggleable__content {max-height: 200px;max-width: 100%;overflow: auto;}#sk-container-id-8 input.sk-toggleable__control:checked~label.sk-toggleable__label-arrow:before {content: \"▾\";}#sk-container-id-8 div.sk-estimator input.sk-toggleable__control:checked~label.sk-toggleable__label {background-color: #d4ebff;}#sk-container-id-8 div.sk-label input.sk-toggleable__control:checked~label.sk-toggleable__label {background-color: #d4ebff;}#sk-container-id-8 input.sk-hidden--visually {border: 0;clip: rect(1px 1px 1px 1px);clip: rect(1px, 1px, 1px, 1px);height: 1px;margin: -1px;overflow: hidden;padding: 0;position: absolute;width: 1px;}#sk-container-id-8 div.sk-estimator {font-family: monospace;background-color: #f0f8ff;border: 1px dotted black;border-radius: 0.25em;box-sizing: border-box;margin-bottom: 0.5em;}#sk-container-id-8 div.sk-estimator:hover {background-color: #d4ebff;}#sk-container-id-8 div.sk-parallel-item::after {content: \"\";width: 100%;border-bottom: 1px solid gray;flex-grow: 1;}#sk-container-id-8 div.sk-label:hover label.sk-toggleable__label {background-color: #d4ebff;}#sk-container-id-8 div.sk-serial::before {content: \"\";position: absolute;border-left: 1px solid gray;box-sizing: border-box;top: 0;bottom: 0;left: 50%;z-index: 0;}#sk-container-id-8 div.sk-serial {display: flex;flex-direction: column;align-items: center;background-color: white;padding-right: 0.2em;padding-left: 0.2em;position: relative;}#sk-container-id-8 div.sk-item {position: relative;z-index: 1;}#sk-container-id-8 div.sk-parallel {display: flex;align-items: stretch;justify-content: center;background-color: white;position: relative;}#sk-container-id-8 div.sk-item::before, #sk-container-id-8 div.sk-parallel-item::before {content: \"\";position: absolute;border-left: 1px solid gray;box-sizing: border-box;top: 0;bottom: 0;left: 50%;z-index: -1;}#sk-container-id-8 div.sk-parallel-item {display: flex;flex-direction: column;z-index: 1;position: relative;background-color: white;}#sk-container-id-8 div.sk-parallel-item:first-child::after {align-self: flex-end;width: 50%;}#sk-container-id-8 div.sk-parallel-item:last-child::after {align-self: flex-start;width: 50%;}#sk-container-id-8 div.sk-parallel-item:only-child::after {width: 0;}#sk-container-id-8 div.sk-dashed-wrapped {border: 1px dashed gray;margin: 0 0.4em 0.5em 0.4em;box-sizing: border-box;padding-bottom: 0.4em;background-color: white;}#sk-container-id-8 div.sk-label label {font-family: monospace;font-weight: bold;display: inline-block;line-height: 1.2em;}#sk-container-id-8 div.sk-label-container {text-align: center;}#sk-container-id-8 div.sk-container {/* jupyter's `normalize.less` sets `[hidden] { display: none; }` but bootstrap.min.css set `[hidden] { display: none !important; }` so we also need the `!important` here to be able to override the default hidden behavior on the sphinx rendered scikit-learn.org. See: https://github.com/scikit-learn/scikit-learn/issues/21755 */display: inline-block !important;position: relative;}#sk-container-id-8 div.sk-text-repr-fallback {display: none;}</style><div id=\"sk-container-id-8\" class=\"sk-top-container\"><div class=\"sk-text-repr-fallback\"><pre>DecisionTreeClassifier(max_depth=7)</pre><b>In a Jupyter environment, please rerun this cell to show the HTML representation or trust the notebook. <br />On GitHub, the HTML representation is unable to render, please try loading this page with nbviewer.org.</b></div><div class=\"sk-container\" hidden><div class=\"sk-item\"><div class=\"sk-estimator sk-toggleable\"><input class=\"sk-toggleable__control sk-hidden--visually\" id=\"sk-estimator-id-8\" type=\"checkbox\" checked><label for=\"sk-estimator-id-8\" class=\"sk-toggleable__label sk-toggleable__label-arrow\">DecisionTreeClassifier</label><div class=\"sk-toggleable__content\"><pre>DecisionTreeClassifier(max_depth=7)</pre></div></div></div></div></div>"
      ],
      "text/plain": [
       "DecisionTreeClassifier(max_depth=7)"
      ]
     },
     "execution_count": 54,
     "metadata": {},
     "output_type": "execute_result"
    }
   ],
   "source": [
    "dt2=DecisionTreeClassifier(max_depth=7)#8\n",
    "mymodel(dt2)"
   ]
  },
  {
   "cell_type": "code",
   "execution_count": 55,
   "id": "924b17ec",
   "metadata": {},
   "outputs": [
    {
     "data": {
      "text/plain": [
       "0.9704840613931524"
      ]
     },
     "execution_count": 55,
     "metadata": {},
     "output_type": "execute_result"
    }
   ],
   "source": [
    "dt2.score(xtrain,ytrain)"
   ]
  },
  {
   "cell_type": "code",
   "execution_count": 56,
   "id": "b93fcd79",
   "metadata": {},
   "outputs": [
    {
     "data": {
      "text/plain": [
       "0.9811320754716981"
      ]
     },
     "execution_count": 56,
     "metadata": {},
     "output_type": "execute_result"
    }
   ],
   "source": [
    "dt2.score(xtest,ytest)"
   ]
  },
  {
   "cell_type": "markdown",
   "id": "d171df04",
   "metadata": {},
   "source": [
    "#### checking overfitting"
   ]
  },
  {
   "cell_type": "markdown",
   "id": "aff25d41",
   "metadata": {},
   "source": [
    "### min sample leaf"
   ]
  },
  {
   "cell_type": "code",
   "execution_count": 61,
   "id": "8b00b68a",
   "metadata": {},
   "outputs": [
    {
     "name": "stdout",
     "output_type": "stream",
     "text": [
      "min sample leaf of 1 is 1.0\n",
      "min sample leaf of 2 is 1.0\n",
      "min sample leaf of 3 is 1.0\n",
      "min sample leaf of 4 is 0.9952830188679245\n",
      "min sample leaf of 5 is 0.9952830188679245\n",
      "min sample leaf of 6 is 0.9952830188679245\n",
      "min sample leaf of 7 is 0.9952830188679245\n",
      "min sample leaf of 8 is 0.9952830188679245\n",
      "min sample leaf of 9 is 0.9952830188679245\n",
      "min sample leaf of 10 is 0.9952830188679245\n",
      "min sample leaf of 11 is 0.9952830188679245\n",
      "min sample leaf of 12 is 0.9858490566037735\n",
      "min sample leaf of 13 is 0.9858490566037735\n",
      "min sample leaf of 14 is 0.9858490566037735\n",
      "min sample leaf of 15 is 0.9528301886792453\n",
      "min sample leaf of 16 is 0.9481132075471698\n",
      "min sample leaf of 17 is 0.9481132075471698\n",
      "min sample leaf of 18 is 0.9481132075471698\n",
      "min sample leaf of 19 is 0.9481132075471698\n",
      "min sample leaf of 20 is 0.9292452830188679\n",
      "min sample leaf of 21 is 0.9245283018867925\n",
      "min sample leaf of 22 is 0.9245283018867925\n",
      "min sample leaf of 23 is 0.9245283018867925\n",
      "min sample leaf of 24 is 0.9245283018867925\n",
      "min sample leaf of 25 is 0.9245283018867925\n",
      "min sample leaf of 26 is 0.9245283018867925\n",
      "min sample leaf of 27 is 0.9245283018867925\n",
      "min sample leaf of 28 is 0.9245283018867925\n",
      "min sample leaf of 29 is 0.9245283018867925\n",
      "min sample leaf of 30 is 0.9245283018867925\n",
      "min sample leaf of 31 is 0.9150943396226415\n",
      "min sample leaf of 32 is 0.9150943396226415\n",
      "min sample leaf of 33 is 0.9150943396226415\n",
      "min sample leaf of 34 is 0.9150943396226415\n",
      "min sample leaf of 35 is 0.9150943396226415\n",
      "min sample leaf of 36 is 0.9150943396226415\n",
      "min sample leaf of 37 is 0.9150943396226415\n",
      "min sample leaf of 38 is 0.9150943396226415\n",
      "min sample leaf of 39 is 0.9150943396226415\n",
      "min sample leaf of 40 is 0.9150943396226415\n",
      "min sample leaf of 41 is 0.9150943396226415\n",
      "min sample leaf of 42 is 0.9150943396226415\n",
      "min sample leaf of 43 is 0.9150943396226415\n",
      "min sample leaf of 44 is 0.9150943396226415\n",
      "min sample leaf of 45 is 0.9150943396226415\n",
      "min sample leaf of 46 is 0.9150943396226415\n",
      "min sample leaf of 47 is 0.9150943396226415\n",
      "min sample leaf of 48 is 0.9150943396226415\n",
      "min sample leaf of 49 is 0.9150943396226415\n",
      "min sample leaf of 50 is 0.9150943396226415\n",
      "min sample leaf of 51 is 0.9150943396226415\n",
      "min sample leaf of 52 is 0.9150943396226415\n",
      "min sample leaf of 53 is 0.9150943396226415\n",
      "min sample leaf of 54 is 0.9150943396226415\n",
      "min sample leaf of 55 is 0.9150943396226415\n",
      "min sample leaf of 56 is 0.8490566037735849\n",
      "min sample leaf of 57 is 0.8490566037735849\n",
      "min sample leaf of 58 is 0.8490566037735849\n",
      "min sample leaf of 59 is 0.8490566037735849\n",
      "min sample leaf of 60 is 0.8490566037735849\n",
      "min sample leaf of 61 is 0.8490566037735849\n",
      "min sample leaf of 62 is 0.8490566037735849\n",
      "min sample leaf of 63 is 0.8490566037735849\n",
      "min sample leaf of 64 is 0.8490566037735849\n",
      "min sample leaf of 65 is 0.8490566037735849\n",
      "min sample leaf of 66 is 0.8490566037735849\n",
      "min sample leaf of 67 is 0.8490566037735849\n",
      "min sample leaf of 68 is 0.8490566037735849\n",
      "min sample leaf of 69 is 0.8490566037735849\n",
      "min sample leaf of 70 is 0.8490566037735849\n",
      "min sample leaf of 71 is 0.8490566037735849\n",
      "min sample leaf of 72 is 0.8490566037735849\n",
      "min sample leaf of 73 is 0.8490566037735849\n",
      "min sample leaf of 74 is 0.8490566037735849\n",
      "min sample leaf of 75 is 0.8490566037735849\n",
      "min sample leaf of 76 is 0.8490566037735849\n",
      "min sample leaf of 77 is 0.8490566037735849\n",
      "min sample leaf of 78 is 0.8490566037735849\n",
      "min sample leaf of 79 is 0.8490566037735849\n",
      "min sample leaf of 80 is 0.8490566037735849\n",
      "min sample leaf of 81 is 0.8490566037735849\n",
      "min sample leaf of 82 is 0.8490566037735849\n",
      "min sample leaf of 83 is 0.8490566037735849\n",
      "min sample leaf of 84 is 0.8490566037735849\n",
      "min sample leaf of 85 is 0.8490566037735849\n",
      "min sample leaf of 86 is 0.8490566037735849\n",
      "min sample leaf of 87 is 0.8490566037735849\n",
      "min sample leaf of 88 is 0.8490566037735849\n",
      "min sample leaf of 89 is 0.8490566037735849\n"
     ]
    }
   ],
   "source": [
    "for i in range(1,90):\n",
    "    dt3 = DecisionTreeClassifier(min_samples_leaf= i)\n",
    "    dt3.fit(xtrain,ytrain)\n",
    "    ypred=dt3.predict(xtest)\n",
    "    ac= accuracy_score(ytest,ypred)\n",
    "    print(f\"min sample leaf of {i} is {ac}\")"
   ]
  },
  {
   "cell_type": "code",
   "execution_count": 62,
   "id": "2bb08f3a",
   "metadata": {},
   "outputs": [
    {
     "name": "stdout",
     "output_type": "stream",
     "text": [
      "accuracy_score: 0.9245283018867925\n",
      "Classification_report :               precision    recall  f1-score   support\n",
      "\n",
      "           0       0.98      0.93      0.95        44\n",
      "           1       0.97      0.90      0.93        92\n",
      "           2       0.86      0.95      0.90        76\n",
      "\n",
      "    accuracy                           0.92       212\n",
      "   macro avg       0.93      0.93      0.93       212\n",
      "weighted avg       0.93      0.92      0.93       212\n",
      "\n"
     ]
    },
    {
     "data": {
      "text/html": [
       "<style>#sk-container-id-9 {color: black;background-color: white;}#sk-container-id-9 pre{padding: 0;}#sk-container-id-9 div.sk-toggleable {background-color: white;}#sk-container-id-9 label.sk-toggleable__label {cursor: pointer;display: block;width: 100%;margin-bottom: 0;padding: 0.3em;box-sizing: border-box;text-align: center;}#sk-container-id-9 label.sk-toggleable__label-arrow:before {content: \"▸\";float: left;margin-right: 0.25em;color: #696969;}#sk-container-id-9 label.sk-toggleable__label-arrow:hover:before {color: black;}#sk-container-id-9 div.sk-estimator:hover label.sk-toggleable__label-arrow:before {color: black;}#sk-container-id-9 div.sk-toggleable__content {max-height: 0;max-width: 0;overflow: hidden;text-align: left;background-color: #f0f8ff;}#sk-container-id-9 div.sk-toggleable__content pre {margin: 0.2em;color: black;border-radius: 0.25em;background-color: #f0f8ff;}#sk-container-id-9 input.sk-toggleable__control:checked~div.sk-toggleable__content {max-height: 200px;max-width: 100%;overflow: auto;}#sk-container-id-9 input.sk-toggleable__control:checked~label.sk-toggleable__label-arrow:before {content: \"▾\";}#sk-container-id-9 div.sk-estimator input.sk-toggleable__control:checked~label.sk-toggleable__label {background-color: #d4ebff;}#sk-container-id-9 div.sk-label input.sk-toggleable__control:checked~label.sk-toggleable__label {background-color: #d4ebff;}#sk-container-id-9 input.sk-hidden--visually {border: 0;clip: rect(1px 1px 1px 1px);clip: rect(1px, 1px, 1px, 1px);height: 1px;margin: -1px;overflow: hidden;padding: 0;position: absolute;width: 1px;}#sk-container-id-9 div.sk-estimator {font-family: monospace;background-color: #f0f8ff;border: 1px dotted black;border-radius: 0.25em;box-sizing: border-box;margin-bottom: 0.5em;}#sk-container-id-9 div.sk-estimator:hover {background-color: #d4ebff;}#sk-container-id-9 div.sk-parallel-item::after {content: \"\";width: 100%;border-bottom: 1px solid gray;flex-grow: 1;}#sk-container-id-9 div.sk-label:hover label.sk-toggleable__label {background-color: #d4ebff;}#sk-container-id-9 div.sk-serial::before {content: \"\";position: absolute;border-left: 1px solid gray;box-sizing: border-box;top: 0;bottom: 0;left: 50%;z-index: 0;}#sk-container-id-9 div.sk-serial {display: flex;flex-direction: column;align-items: center;background-color: white;padding-right: 0.2em;padding-left: 0.2em;position: relative;}#sk-container-id-9 div.sk-item {position: relative;z-index: 1;}#sk-container-id-9 div.sk-parallel {display: flex;align-items: stretch;justify-content: center;background-color: white;position: relative;}#sk-container-id-9 div.sk-item::before, #sk-container-id-9 div.sk-parallel-item::before {content: \"\";position: absolute;border-left: 1px solid gray;box-sizing: border-box;top: 0;bottom: 0;left: 50%;z-index: -1;}#sk-container-id-9 div.sk-parallel-item {display: flex;flex-direction: column;z-index: 1;position: relative;background-color: white;}#sk-container-id-9 div.sk-parallel-item:first-child::after {align-self: flex-end;width: 50%;}#sk-container-id-9 div.sk-parallel-item:last-child::after {align-self: flex-start;width: 50%;}#sk-container-id-9 div.sk-parallel-item:only-child::after {width: 0;}#sk-container-id-9 div.sk-dashed-wrapped {border: 1px dashed gray;margin: 0 0.4em 0.5em 0.4em;box-sizing: border-box;padding-bottom: 0.4em;background-color: white;}#sk-container-id-9 div.sk-label label {font-family: monospace;font-weight: bold;display: inline-block;line-height: 1.2em;}#sk-container-id-9 div.sk-label-container {text-align: center;}#sk-container-id-9 div.sk-container {/* jupyter's `normalize.less` sets `[hidden] { display: none; }` but bootstrap.min.css set `[hidden] { display: none !important; }` so we also need the `!important` here to be able to override the default hidden behavior on the sphinx rendered scikit-learn.org. See: https://github.com/scikit-learn/scikit-learn/issues/21755 */display: inline-block !important;position: relative;}#sk-container-id-9 div.sk-text-repr-fallback {display: none;}</style><div id=\"sk-container-id-9\" class=\"sk-top-container\"><div class=\"sk-text-repr-fallback\"><pre>DecisionTreeClassifier(min_samples_leaf=30)</pre><b>In a Jupyter environment, please rerun this cell to show the HTML representation or trust the notebook. <br />On GitHub, the HTML representation is unable to render, please try loading this page with nbviewer.org.</b></div><div class=\"sk-container\" hidden><div class=\"sk-item\"><div class=\"sk-estimator sk-toggleable\"><input class=\"sk-toggleable__control sk-hidden--visually\" id=\"sk-estimator-id-9\" type=\"checkbox\" checked><label for=\"sk-estimator-id-9\" class=\"sk-toggleable__label sk-toggleable__label-arrow\">DecisionTreeClassifier</label><div class=\"sk-toggleable__content\"><pre>DecisionTreeClassifier(min_samples_leaf=30)</pre></div></div></div></div></div>"
      ],
      "text/plain": [
       "DecisionTreeClassifier(min_samples_leaf=30)"
      ]
     },
     "execution_count": 62,
     "metadata": {},
     "output_type": "execute_result"
    }
   ],
   "source": [
    "dt4 = DecisionTreeClassifier(min_samples_leaf= 30)\n",
    "mymodel(dt4)"
   ]
  },
  {
   "cell_type": "markdown",
   "id": "d4748d34",
   "metadata": {},
   "source": [
    "#### Rebuilding model with the min_samples_leaf pruning technique and the classification report is printed."
   ]
  },
  {
   "cell_type": "markdown",
   "id": "7a7a742a",
   "metadata": {},
   "source": [
    "#### i am getting accuracy of 92% by using \"min_samples_leaf\" purning techniques in DecisionTree"
   ]
  },
  {
   "cell_type": "code",
   "execution_count": 63,
   "id": "c9eb6457",
   "metadata": {},
   "outputs": [
    {
     "data": {
      "text/plain": [
       "0.9279811097992916"
      ]
     },
     "execution_count": 63,
     "metadata": {},
     "output_type": "execute_result"
    }
   ],
   "source": [
    "dt4.score(xtrain,ytrain)"
   ]
  },
  {
   "cell_type": "code",
   "execution_count": 64,
   "id": "c950cdc6",
   "metadata": {},
   "outputs": [
    {
     "data": {
      "text/plain": [
       "0.9245283018867925"
      ]
     },
     "execution_count": 64,
     "metadata": {},
     "output_type": "execute_result"
    }
   ],
   "source": [
    "dt4.score(xtest,ytest)"
   ]
  },
  {
   "cell_type": "markdown",
   "id": "f7db7a4c",
   "metadata": {},
   "source": [
    "#### checking overfitting"
   ]
  },
  {
   "cell_type": "markdown",
   "id": "3a69f3ff",
   "metadata": {},
   "source": [
    "### minsample split"
   ]
  },
  {
   "cell_type": "code",
   "execution_count": 66,
   "id": "05a11b3c",
   "metadata": {},
   "outputs": [
    {
     "name": "stdout",
     "output_type": "stream",
     "text": [
      "min sample leaf of 2 is 1.0\n",
      "min sample leaf of 3 is 1.0\n",
      "min sample leaf of 4 is 1.0\n",
      "min sample leaf of 5 is 1.0\n",
      "min sample leaf of 6 is 1.0\n",
      "min sample leaf of 7 is 1.0\n",
      "min sample leaf of 8 is 1.0\n",
      "min sample leaf of 9 is 1.0\n",
      "min sample leaf of 10 is 1.0\n",
      "min sample leaf of 11 is 1.0\n",
      "min sample leaf of 12 is 1.0\n",
      "min sample leaf of 13 is 1.0\n",
      "min sample leaf of 14 is 1.0\n",
      "min sample leaf of 15 is 1.0\n",
      "min sample leaf of 16 is 1.0\n",
      "min sample leaf of 17 is 1.0\n",
      "min sample leaf of 18 is 1.0\n",
      "min sample leaf of 19 is 1.0\n",
      "min sample leaf of 20 is 1.0\n",
      "min sample leaf of 21 is 0.9952830188679245\n",
      "min sample leaf of 22 is 0.9952830188679245\n",
      "min sample leaf of 23 is 0.9952830188679245\n",
      "min sample leaf of 24 is 0.9952830188679245\n",
      "min sample leaf of 25 is 0.9952830188679245\n",
      "min sample leaf of 26 is 0.9952830188679245\n",
      "min sample leaf of 27 is 0.9858490566037735\n",
      "min sample leaf of 28 is 0.9858490566037735\n",
      "min sample leaf of 29 is 0.9858490566037735\n",
      "min sample leaf of 30 is 0.9858490566037735\n",
      "min sample leaf of 31 is 0.9858490566037735\n",
      "min sample leaf of 32 is 0.9858490566037735\n",
      "min sample leaf of 33 is 0.9858490566037735\n",
      "min sample leaf of 34 is 0.9858490566037735\n",
      "min sample leaf of 35 is 0.9858490566037735\n",
      "min sample leaf of 36 is 0.9858490566037735\n",
      "min sample leaf of 37 is 0.9858490566037735\n",
      "min sample leaf of 38 is 0.9858490566037735\n",
      "min sample leaf of 39 is 0.9858490566037735\n",
      "min sample leaf of 40 is 0.9858490566037735\n",
      "min sample leaf of 41 is 0.9858490566037735\n",
      "min sample leaf of 42 is 0.9858490566037735\n",
      "min sample leaf of 43 is 0.9858490566037735\n",
      "min sample leaf of 44 is 0.9858490566037735\n",
      "min sample leaf of 45 is 0.9811320754716981\n",
      "min sample leaf of 46 is 0.9811320754716981\n",
      "min sample leaf of 47 is 0.9811320754716981\n",
      "min sample leaf of 48 is 0.9811320754716981\n",
      "min sample leaf of 49 is 0.9811320754716981\n",
      "min sample leaf of 50 is 0.9811320754716981\n",
      "min sample leaf of 51 is 0.9811320754716981\n",
      "min sample leaf of 52 is 0.9811320754716981\n",
      "min sample leaf of 53 is 0.9811320754716981\n",
      "min sample leaf of 54 is 0.9811320754716981\n",
      "min sample leaf of 55 is 0.9811320754716981\n",
      "min sample leaf of 56 is 0.9811320754716981\n",
      "min sample leaf of 57 is 0.9811320754716981\n",
      "min sample leaf of 58 is 0.9811320754716981\n",
      "min sample leaf of 59 is 0.9811320754716981\n",
      "min sample leaf of 60 is 0.9811320754716981\n",
      "min sample leaf of 61 is 0.9811320754716981\n",
      "min sample leaf of 62 is 0.9811320754716981\n",
      "min sample leaf of 63 is 0.9811320754716981\n",
      "min sample leaf of 64 is 0.9811320754716981\n",
      "min sample leaf of 65 is 0.9811320754716981\n",
      "min sample leaf of 66 is 0.9811320754716981\n",
      "min sample leaf of 67 is 0.9811320754716981\n",
      "min sample leaf of 68 is 0.9811320754716981\n",
      "min sample leaf of 69 is 0.9811320754716981\n",
      "min sample leaf of 70 is 0.9811320754716981\n",
      "min sample leaf of 71 is 0.9811320754716981\n",
      "min sample leaf of 72 is 0.9811320754716981\n",
      "min sample leaf of 73 is 0.9811320754716981\n",
      "min sample leaf of 74 is 0.9811320754716981\n",
      "min sample leaf of 75 is 0.9811320754716981\n",
      "min sample leaf of 76 is 0.9811320754716981\n",
      "min sample leaf of 77 is 0.9811320754716981\n",
      "min sample leaf of 78 is 0.9811320754716981\n",
      "min sample leaf of 79 is 0.9811320754716981\n",
      "min sample leaf of 80 is 0.9811320754716981\n",
      "min sample leaf of 81 is 0.9811320754716981\n",
      "min sample leaf of 82 is 0.9811320754716981\n",
      "min sample leaf of 83 is 0.9811320754716981\n",
      "min sample leaf of 84 is 0.9811320754716981\n",
      "min sample leaf of 85 is 0.9811320754716981\n",
      "min sample leaf of 86 is 0.9811320754716981\n",
      "min sample leaf of 87 is 0.9811320754716981\n",
      "min sample leaf of 88 is 0.9811320754716981\n",
      "min sample leaf of 89 is 0.9811320754716981\n",
      "min sample leaf of 90 is 0.9811320754716981\n",
      "min sample leaf of 91 is 0.9811320754716981\n",
      "min sample leaf of 92 is 0.9811320754716981\n",
      "min sample leaf of 93 is 0.9811320754716981\n",
      "min sample leaf of 94 is 0.9811320754716981\n",
      "min sample leaf of 95 is 0.9811320754716981\n",
      "min sample leaf of 96 is 0.9811320754716981\n",
      "min sample leaf of 97 is 0.9811320754716981\n",
      "min sample leaf of 98 is 0.9811320754716981\n",
      "min sample leaf of 99 is 0.9811320754716981\n",
      "min sample leaf of 100 is 0.9811320754716981\n",
      "min sample leaf of 101 is 0.9811320754716981\n",
      "min sample leaf of 102 is 0.9811320754716981\n",
      "min sample leaf of 103 is 0.9811320754716981\n",
      "min sample leaf of 104 is 0.9811320754716981\n",
      "min sample leaf of 105 is 0.9811320754716981\n",
      "min sample leaf of 106 is 0.9811320754716981\n",
      "min sample leaf of 107 is 0.9811320754716981\n",
      "min sample leaf of 108 is 0.9811320754716981\n",
      "min sample leaf of 109 is 0.9811320754716981\n",
      "min sample leaf of 110 is 0.9811320754716981\n",
      "min sample leaf of 111 is 0.9811320754716981\n",
      "min sample leaf of 112 is 0.9811320754716981\n",
      "min sample leaf of 113 is 0.9811320754716981\n",
      "min sample leaf of 114 is 0.9811320754716981\n",
      "min sample leaf of 115 is 0.9811320754716981\n",
      "min sample leaf of 116 is 0.9811320754716981\n",
      "min sample leaf of 117 is 0.9811320754716981\n",
      "min sample leaf of 118 is 0.9811320754716981\n",
      "min sample leaf of 119 is 0.9811320754716981\n",
      "min sample leaf of 120 is 0.9811320754716981\n",
      "min sample leaf of 121 is 0.9811320754716981\n",
      "min sample leaf of 122 is 0.9811320754716981\n",
      "min sample leaf of 123 is 0.9811320754716981\n",
      "min sample leaf of 124 is 0.9811320754716981\n",
      "min sample leaf of 125 is 0.9811320754716981\n",
      "min sample leaf of 126 is 0.9811320754716981\n",
      "min sample leaf of 127 is 0.9811320754716981\n",
      "min sample leaf of 128 is 0.9811320754716981\n",
      "min sample leaf of 129 is 0.9811320754716981\n",
      "min sample leaf of 130 is 0.9811320754716981\n",
      "min sample leaf of 131 is 0.9811320754716981\n",
      "min sample leaf of 132 is 0.9811320754716981\n",
      "min sample leaf of 133 is 0.9811320754716981\n",
      "min sample leaf of 134 is 0.9811320754716981\n",
      "min sample leaf of 135 is 0.9811320754716981\n",
      "min sample leaf of 136 is 0.9811320754716981\n",
      "min sample leaf of 137 is 0.9811320754716981\n",
      "min sample leaf of 138 is 0.9811320754716981\n",
      "min sample leaf of 139 is 0.9198113207547169\n",
      "min sample leaf of 140 is 0.9198113207547169\n",
      "min sample leaf of 141 is 0.9198113207547169\n",
      "min sample leaf of 142 is 0.9198113207547169\n",
      "min sample leaf of 143 is 0.9198113207547169\n",
      "min sample leaf of 144 is 0.9198113207547169\n",
      "min sample leaf of 145 is 0.9198113207547169\n",
      "min sample leaf of 146 is 0.9198113207547169\n",
      "min sample leaf of 147 is 0.9198113207547169\n",
      "min sample leaf of 148 is 0.9198113207547169\n",
      "min sample leaf of 149 is 0.9198113207547169\n",
      "min sample leaf of 150 is 0.9198113207547169\n",
      "min sample leaf of 151 is 0.9198113207547169\n",
      "min sample leaf of 152 is 0.9198113207547169\n",
      "min sample leaf of 153 is 0.9198113207547169\n",
      "min sample leaf of 154 is 0.9198113207547169\n",
      "min sample leaf of 155 is 0.9198113207547169\n",
      "min sample leaf of 156 is 0.9198113207547169\n",
      "min sample leaf of 157 is 0.9198113207547169\n",
      "min sample leaf of 158 is 0.9198113207547169\n",
      "min sample leaf of 159 is 0.9198113207547169\n",
      "min sample leaf of 160 is 0.9198113207547169\n",
      "min sample leaf of 161 is 0.9198113207547169\n",
      "min sample leaf of 162 is 0.9198113207547169\n",
      "min sample leaf of 163 is 0.9198113207547169\n",
      "min sample leaf of 164 is 0.9198113207547169\n",
      "min sample leaf of 165 is 0.9198113207547169\n",
      "min sample leaf of 166 is 0.9198113207547169\n",
      "min sample leaf of 167 is 0.9198113207547169\n",
      "min sample leaf of 168 is 0.9198113207547169\n",
      "min sample leaf of 169 is 0.9198113207547169\n",
      "min sample leaf of 170 is 0.9198113207547169\n",
      "min sample leaf of 171 is 0.9198113207547169\n",
      "min sample leaf of 172 is 0.9198113207547169\n",
      "min sample leaf of 173 is 0.9198113207547169\n",
      "min sample leaf of 174 is 0.9198113207547169\n",
      "min sample leaf of 175 is 0.9198113207547169\n",
      "min sample leaf of 176 is 0.9198113207547169\n",
      "min sample leaf of 177 is 0.9198113207547169\n",
      "min sample leaf of 178 is 0.9198113207547169\n",
      "min sample leaf of 179 is 0.9198113207547169\n",
      "min sample leaf of 180 is 0.9198113207547169\n",
      "min sample leaf of 181 is 0.9198113207547169\n",
      "min sample leaf of 182 is 0.9198113207547169\n",
      "min sample leaf of 183 is 0.9198113207547169\n",
      "min sample leaf of 184 is 0.9198113207547169\n",
      "min sample leaf of 185 is 0.9198113207547169\n",
      "min sample leaf of 186 is 0.9198113207547169\n",
      "min sample leaf of 187 is 0.9198113207547169\n",
      "min sample leaf of 188 is 0.9198113207547169\n",
      "min sample leaf of 189 is 0.910377358490566\n",
      "min sample leaf of 190 is 0.910377358490566\n",
      "min sample leaf of 191 is 0.910377358490566\n",
      "min sample leaf of 192 is 0.910377358490566\n",
      "min sample leaf of 193 is 0.910377358490566\n",
      "min sample leaf of 194 is 0.910377358490566\n",
      "min sample leaf of 195 is 0.910377358490566\n",
      "min sample leaf of 196 is 0.910377358490566\n",
      "min sample leaf of 197 is 0.910377358490566\n",
      "min sample leaf of 198 is 0.910377358490566\n",
      "min sample leaf of 199 is 0.910377358490566\n"
     ]
    }
   ],
   "source": [
    "for i in range(2,200):\n",
    "    dt5 = DecisionTreeClassifier(min_samples_split= i)\n",
    "    dt5.fit(xtrain,ytrain)\n",
    "    ypred=dt5.predict(xtest)\n",
    "    ac= accuracy_score(ytest,ypred)\n",
    "    print(f\"min sample leaf of {i} is {ac}\")"
   ]
  },
  {
   "cell_type": "code",
   "execution_count": 69,
   "id": "71ecc6a5",
   "metadata": {},
   "outputs": [
    {
     "name": "stdout",
     "output_type": "stream",
     "text": [
      "accuracy_score: 0.9198113207547169\n",
      "Classification_report :               precision    recall  f1-score   support\n",
      "\n",
      "           0       0.72      1.00      0.84        44\n",
      "           1       1.00      1.00      1.00        92\n",
      "           2       1.00      0.78      0.87        76\n",
      "\n",
      "    accuracy                           0.92       212\n",
      "   macro avg       0.91      0.93      0.90       212\n",
      "weighted avg       0.94      0.92      0.92       212\n",
      "\n"
     ]
    },
    {
     "data": {
      "text/html": [
       "<style>#sk-container-id-12 {color: black;background-color: white;}#sk-container-id-12 pre{padding: 0;}#sk-container-id-12 div.sk-toggleable {background-color: white;}#sk-container-id-12 label.sk-toggleable__label {cursor: pointer;display: block;width: 100%;margin-bottom: 0;padding: 0.3em;box-sizing: border-box;text-align: center;}#sk-container-id-12 label.sk-toggleable__label-arrow:before {content: \"▸\";float: left;margin-right: 0.25em;color: #696969;}#sk-container-id-12 label.sk-toggleable__label-arrow:hover:before {color: black;}#sk-container-id-12 div.sk-estimator:hover label.sk-toggleable__label-arrow:before {color: black;}#sk-container-id-12 div.sk-toggleable__content {max-height: 0;max-width: 0;overflow: hidden;text-align: left;background-color: #f0f8ff;}#sk-container-id-12 div.sk-toggleable__content pre {margin: 0.2em;color: black;border-radius: 0.25em;background-color: #f0f8ff;}#sk-container-id-12 input.sk-toggleable__control:checked~div.sk-toggleable__content {max-height: 200px;max-width: 100%;overflow: auto;}#sk-container-id-12 input.sk-toggleable__control:checked~label.sk-toggleable__label-arrow:before {content: \"▾\";}#sk-container-id-12 div.sk-estimator input.sk-toggleable__control:checked~label.sk-toggleable__label {background-color: #d4ebff;}#sk-container-id-12 div.sk-label input.sk-toggleable__control:checked~label.sk-toggleable__label {background-color: #d4ebff;}#sk-container-id-12 input.sk-hidden--visually {border: 0;clip: rect(1px 1px 1px 1px);clip: rect(1px, 1px, 1px, 1px);height: 1px;margin: -1px;overflow: hidden;padding: 0;position: absolute;width: 1px;}#sk-container-id-12 div.sk-estimator {font-family: monospace;background-color: #f0f8ff;border: 1px dotted black;border-radius: 0.25em;box-sizing: border-box;margin-bottom: 0.5em;}#sk-container-id-12 div.sk-estimator:hover {background-color: #d4ebff;}#sk-container-id-12 div.sk-parallel-item::after {content: \"\";width: 100%;border-bottom: 1px solid gray;flex-grow: 1;}#sk-container-id-12 div.sk-label:hover label.sk-toggleable__label {background-color: #d4ebff;}#sk-container-id-12 div.sk-serial::before {content: \"\";position: absolute;border-left: 1px solid gray;box-sizing: border-box;top: 0;bottom: 0;left: 50%;z-index: 0;}#sk-container-id-12 div.sk-serial {display: flex;flex-direction: column;align-items: center;background-color: white;padding-right: 0.2em;padding-left: 0.2em;position: relative;}#sk-container-id-12 div.sk-item {position: relative;z-index: 1;}#sk-container-id-12 div.sk-parallel {display: flex;align-items: stretch;justify-content: center;background-color: white;position: relative;}#sk-container-id-12 div.sk-item::before, #sk-container-id-12 div.sk-parallel-item::before {content: \"\";position: absolute;border-left: 1px solid gray;box-sizing: border-box;top: 0;bottom: 0;left: 50%;z-index: -1;}#sk-container-id-12 div.sk-parallel-item {display: flex;flex-direction: column;z-index: 1;position: relative;background-color: white;}#sk-container-id-12 div.sk-parallel-item:first-child::after {align-self: flex-end;width: 50%;}#sk-container-id-12 div.sk-parallel-item:last-child::after {align-self: flex-start;width: 50%;}#sk-container-id-12 div.sk-parallel-item:only-child::after {width: 0;}#sk-container-id-12 div.sk-dashed-wrapped {border: 1px dashed gray;margin: 0 0.4em 0.5em 0.4em;box-sizing: border-box;padding-bottom: 0.4em;background-color: white;}#sk-container-id-12 div.sk-label label {font-family: monospace;font-weight: bold;display: inline-block;line-height: 1.2em;}#sk-container-id-12 div.sk-label-container {text-align: center;}#sk-container-id-12 div.sk-container {/* jupyter's `normalize.less` sets `[hidden] { display: none; }` but bootstrap.min.css set `[hidden] { display: none !important; }` so we also need the `!important` here to be able to override the default hidden behavior on the sphinx rendered scikit-learn.org. See: https://github.com/scikit-learn/scikit-learn/issues/21755 */display: inline-block !important;position: relative;}#sk-container-id-12 div.sk-text-repr-fallback {display: none;}</style><div id=\"sk-container-id-12\" class=\"sk-top-container\"><div class=\"sk-text-repr-fallback\"><pre>DecisionTreeClassifier(min_samples_split=148)</pre><b>In a Jupyter environment, please rerun this cell to show the HTML representation or trust the notebook. <br />On GitHub, the HTML representation is unable to render, please try loading this page with nbviewer.org.</b></div><div class=\"sk-container\" hidden><div class=\"sk-item\"><div class=\"sk-estimator sk-toggleable\"><input class=\"sk-toggleable__control sk-hidden--visually\" id=\"sk-estimator-id-12\" type=\"checkbox\" checked><label for=\"sk-estimator-id-12\" class=\"sk-toggleable__label sk-toggleable__label-arrow\">DecisionTreeClassifier</label><div class=\"sk-toggleable__content\"><pre>DecisionTreeClassifier(min_samples_split=148)</pre></div></div></div></div></div>"
      ],
      "text/plain": [
       "DecisionTreeClassifier(min_samples_split=148)"
      ]
     },
     "execution_count": 69,
     "metadata": {},
     "output_type": "execute_result"
    }
   ],
   "source": [
    "dt6 = DecisionTreeClassifier(min_samples_split=148 )\n",
    "mymodel(dt6)"
   ]
  },
  {
   "cell_type": "code",
   "execution_count": 70,
   "id": "4a0df25c",
   "metadata": {},
   "outputs": [
    {
     "data": {
      "text/plain": [
       "0.9185360094451004"
      ]
     },
     "execution_count": 70,
     "metadata": {},
     "output_type": "execute_result"
    }
   ],
   "source": [
    "dt6.score(xtrain,ytrain)"
   ]
  },
  {
   "cell_type": "code",
   "execution_count": 71,
   "id": "80cfafd3",
   "metadata": {},
   "outputs": [
    {
     "data": {
      "text/plain": [
       "0.9198113207547169"
      ]
     },
     "execution_count": 71,
     "metadata": {},
     "output_type": "execute_result"
    }
   ],
   "source": [
    "dt6.score(xtest,ytest)"
   ]
  },
  {
   "cell_type": "markdown",
   "id": "4fc5b09f",
   "metadata": {},
   "source": [
    "#### In decision Tree \"mean_sample_leaf\" pruning Tecchinique is giving us the best accuracy of 92% with no overfitting"
   ]
  },
  {
   "cell_type": "code",
   "execution_count": null,
   "id": "4d1b3f09",
   "metadata": {},
   "outputs": [],
   "source": []
  }
 ],
 "metadata": {
  "kernelspec": {
   "display_name": "Python 3 (ipykernel)",
   "language": "python",
   "name": "python3"
  },
  "language_info": {
   "codemirror_mode": {
    "name": "ipython",
    "version": 3
   },
   "file_extension": ".py",
   "mimetype": "text/x-python",
   "name": "python",
   "nbconvert_exporter": "python",
   "pygments_lexer": "ipython3",
   "version": "3.9.12"
  }
 },
 "nbformat": 4,
 "nbformat_minor": 5
}
